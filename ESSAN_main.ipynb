{
 "cells": [
  {
   "cell_type": "code",
   "execution_count": 1,
   "metadata": {},
   "outputs": [],
   "source": [
    "import tensorflow as tf\n",
    "tf.random.set_seed(2)  \n",
    "\n",
    "import numpy as np\n",
    "import pandas as pd\n",
    "import math\n",
    "import datetime\n",
    "import os\n",
    "from tqdm import tqdm\n",
    "import matplotlib.pyplot as plt\n",
    "from tensorflow import keras\n",
    "from tensorflow.keras import layers, regularizers\n",
    "from tensorflow.keras.utils import to_categorical,plot_model\n",
    "from tensorflow.keras.models import Sequential\n",
    "from tensorflow.keras.layers import Dense, LSTM, Dropout, GRU, Bidirectional,Conv1D,Conv2D, Flatten,MaxPooling2D\n",
    "from tensorflow.keras.optimizers import SGD\n",
    "from tensorflow.keras.losses import binary_crossentropy\n",
    "from sklearn import metrics\n",
    "from sklearn.preprocessing import MinMaxScaler\n",
    "from sklearn.metrics import confusion_matrix, mean_squared_error,roc_curve, auc,classification_report\n",
    "import autokeras as ak\n",
    "\n",
    "\n",
    "SMALL_SIZE = 8\n",
    "MEDIUM_SIZE = 10\n",
    "BIGGER_SIZE = 12\n",
    "\n",
    "plt.style.use('default')\n",
    "# plt.rc('text',usetex=False)\n",
    "plt.rc('font',**{'family':'sans-serif','sans-serif':['Helvetica']})\n",
    "plt.rc('font', size=SMALL_SIZE)          # controls default text sizes\n",
    "plt.rc('axes', titlesize=MEDIUM_SIZE)     # fontsize of the axes title\n",
    "plt.rc('axes', labelsize=MEDIUM_SIZE)    # fontsize of the x and y labels\n",
    "plt.rc('xtick', labelsize=SMALL_SIZE)    # fontsize of the tick labels\n",
    "plt.rc('ytick', labelsize=SMALL_SIZE)    # fontsize of the tick labels\n",
    "plt.rc('legend', fontsize=SMALL_SIZE)    # legend fontsize\n",
    "plt.rc('figure', titlesize=BIGGER_SIZE)  # fontsize of the figure title\n",
    "# plt.rcParams[\"font.sans-serif\"] = \"Helvetica\"\n",
    "# import pydot\n",
    "# register_matplotlib_converters()"
   ]
  },
  {
   "cell_type": "code",
   "execution_count": 2,
   "metadata": {},
   "outputs": [
    {
     "name": "stdout",
     "output_type": "stream",
     "text": [
      "3.6.9 |Anaconda, Inc.| (default, Jul 30 2019, 19:07:31) \n",
      "[GCC 7.3.0]\n"
     ]
    }
   ],
   "source": [
    "import sys\n",
    "print(sys.version)\n"
   ]
  },
  {
   "cell_type": "markdown",
   "metadata": {},
   "source": [
    "# Load data"
   ]
  },
  {
   "cell_type": "code",
   "execution_count": 3,
   "metadata": {},
   "outputs": [],
   "source": [
    "start_date = datetime.date(2008,6,1)\n",
    "end_date = datetime.date(2019,7,10)\n",
    "# x_total = np.load(\"indicators/x_total.npy\")\n",
    "# y_total = np.load(\"indicators/y_total.npy\")\n",
    "# y_total_raw = np.load(\"indicators/y_total_raw.npy\")\n",
    "\n",
    "## import all x data\n",
    "x_train_res = np.load(\"indicators/x_train_res.npy\")\n",
    "x_val_res = np.load(\"indicators/x_val_res.npy\")\n",
    "x_test = np.load(\"indicators/x_test.npy\")\n",
    "x_test_res = np.load(\"indicators/x_test_res.npy\")\n",
    "x_total_res = np.load(\"indicators/x_temp_res.npy\")\n",
    "\n",
    "x_train_res_close = x_train_res[:,:,:,[0]]\n",
    "x_val_res_close = x_val_res[:,:,:,[0]]\n",
    "x_test_close = x_test[:,:,:,[0]]\n",
    "x_test_res_close = x_test_res[:,:,:,[0]]\n",
    "x_total_res_close = x_total_res[:,:,:,[0]]\n",
    "\n",
    "x_train_res_indicators5 = x_train_res[:,:,:,[3,14,29,15,5]]\n",
    "x_val_res_indicators5 = x_val_res[:,:,:,[3,14,29,15,5]]\n",
    "x_test_indicators5 = x_test[:,:,:,[3,14,29,15,5]]\n",
    "x_test_res_indicators5 = x_test_res[:,:,:,[3,14,29,15,5]]\n",
    "x_total_res_indicators5 = x_total_res[:,:,:,[3,14,29,15,5]]\n",
    "\n",
    "# input all y data\n",
    "\n",
    "y_train_res_raw = np.load(\"indicators/y_train_res_raw.npy\")\n",
    "y_val_res_raw = np.load(\"indicators/y_val_res_raw.npy\")\n",
    "y_test_raw = np.load(\"indicators/y_test_raw.npy\")\n",
    "y_test_res_raw = np.load(\"indicators/y_test_res_raw.npy\")\n",
    "y_total_res_raw = np.load(\"indicators/y_temp_res_raw.npy\")\n",
    "\n",
    "y_train_res = np.load(\"indicators/y_train_res.npy\")\n",
    "y_val_res = np.load(\"indicators/y_val_res.npy\")\n",
    "y_test = np.load(\"indicators/y_test.npy\")\n",
    "y_test_res = np.load(\"indicators/y_test_res.npy\")\n",
    "y_total_res = np.load(\"indicators/y_temp_res.npy\")\n",
    "\n",
    "\n",
    "\n",
    "\n"
   ]
  },
  {
   "cell_type": "code",
   "execution_count": 4,
   "metadata": {},
   "outputs": [],
   "source": [
    "# x_total_2d = x_total.reshape(x_total.shape[0],x_total.shape[1]*x_total.shape[2],x_total.shape[3],1)\n",
    "# x_total_2d.shape\n",
    "# x_total_3d = x_total.reshape(x_total.shape[0],x_total.shape[1],x_total.shape[2],x_total.shape[3],1)\n",
    "# x_total_3d.shape\n",
    "# #close MA120  RSI  MA60  EMA \n",
    "\n",
    "# x_train_temp = x_total[:,:,:,[3,14,29,15,5]]\n",
    "# x_train_temp=x_train_temp.reshape(2759, 61, 360,5)\n",
    "\n",
    "# x_train = x_train_temp[:2500,:,:,:]\n",
    "# y_train = y_total[:2500,:]\n",
    "# y_train_raw = y_total_raw[:2500,]\n",
    "\n",
    "# x_test = x_train_temp[2500:,:,:,:]\n",
    "# y_test = y_total[2500:,:]\n",
    "# y_test_raw = y_total_raw[2500:,]\n",
    "\n",
    "# y_train_raw"
   ]
  },
  {
   "cell_type": "code",
   "execution_count": 5,
   "metadata": {},
   "outputs": [
    {
     "data": {
      "text/plain": [
       "(259, 61, 360, 35)"
      ]
     },
     "execution_count": 5,
     "metadata": {},
     "output_type": "execute_result"
    }
   ],
   "source": [
    "x_test.shape"
   ]
  },
  {
   "cell_type": "markdown",
   "metadata": {
    "colab_type": "text",
    "id": "sahnDKcjgPeT"
   },
   "source": [
    "# 1. Plot methods"
   ]
  },
  {
   "cell_type": "markdown",
   "metadata": {
    "colab_type": "text",
    "id": "lZYtUlmnxQom"
   },
   "source": [
    "## 1.1 Loss & Accuracy Curves"
   ]
  },
  {
   "cell_type": "code",
   "execution_count": 6,
   "metadata": {
    "colab": {},
    "colab_type": "code",
    "id": "ReXB25X_xPyB"
   },
   "outputs": [],
   "source": [
    "def loss_accuracy(history):\n",
    "# Loss Curves\n",
    "    linewidth = 1.5\n",
    "    plt.style.use('ggplot')\n",
    "    plt.figure(figsize=[9,3.5])\n",
    "    plt.plot(history.history['loss'],'r',linewidth=linewidth)\n",
    "    plt.plot(history.history['val_loss'],'b',linewidth=linewidth)\n",
    "    plt.legend(['Training loss', 'Validation Loss'],fontsize=8)\n",
    "    plt.xlabel('Epochs ',fontsize=16)\n",
    "    plt.ylabel('Loss',fontsize=16)\n",
    "    plt.title('Loss Curves',fontsize=16)\n",
    "    plt.show()\n",
    "    plt.savefig('figure/loss_curves_final_150.png',overwrite=True)\n",
    "    # Accuracy Curves\n",
    "    plt.figure(figsize=[9,3.5])\n",
    "    plt.plot(history.history['binary_accuracy'],'r',linewidth=linewidth)\n",
    "    plt.plot(history.history['val_binary_accuracy'],'b',linewidth=linewidth)\n",
    "    plt.legend(['Training Accuracy', 'Validation Accuracy'],fontsize=8,loc='lower right')\n",
    "    plt.xlabel('Epochs ',fontsize=16)\n",
    "    plt.ylabel('Accuracy',fontsize=16)\n",
    "    plt.title('Accuracy Curves',fontsize=16)\n",
    "    plt.show()\n",
    "    plt.savefig('figure/accuracy_curves_final_150.png',overwrite=True)"
   ]
  },
  {
   "cell_type": "markdown",
   "metadata": {
    "colab_type": "text",
    "id": "5IT-N3D93E3T"
   },
   "source": [
    "## 1.2 Show confusion matrix and ACC\n",
    "https://en.wikipedia.org/wiki/Receiver_operating_characteristic"
   ]
  },
  {
   "cell_type": "code",
   "execution_count": 7,
   "metadata": {
    "colab": {},
    "colab_type": "code",
    "id": "9qVDpKzjzGRp"
   },
   "outputs": [],
   "source": [
    " def show_cm_auc(prediction,y_test):\n",
    "    y_pred=np.argmax(prediction, axis=1)\n",
    "    tn, fp, fn, tp = confusion_matrix(np.argmax(y_test, axis=1), y_pred).ravel()\n",
    "    # actual_postive = tp + fn\n",
    "    # actual_negative = fp + tn\n",
    "    fpr, tpr, thresholds = roc_curve(np.argmax(y_test, axis=1), y_pred)\n",
    "    auc = metrics.auc(fpr,tpr)\n",
    "    f1_score = metrics.f1_score(np.argmax(y_test, axis=1), y_pred)\n",
    "    conf_mat = confusion_matrix(np.argmax(y_test, axis=1), y_pred)\n",
    "    print('Confusion matrix:\\n', conf_mat)\n",
    "\n",
    "    labels = ['Class 0', 'Class 1']\n",
    "    fig = plt.figure(figsize=(3,3))\n",
    "    ax = fig.add_subplot(111)\n",
    "    cax = ax.matshow(conf_mat, cmap=plt.cm.Blues)\n",
    "    fig.colorbar(cax)\n",
    "    ax.set_xticklabels([''] + labels)\n",
    "    ax.set_yticklabels([''] + labels)\n",
    "    plt.xlabel('Predicted')\n",
    "    plt.ylabel('Expected')\n",
    "    plt.show()\n",
    "    plt.savefig('figure/confusion_final_150.png',overwrite=True)\n",
    "    print('tn, fp, fn, tp, fpr[1], tpr[1], auc, f1_score',tn, fp, fn, tp, fpr[1], tpr[1], auc, f1_score)"
   ]
  },
  {
   "cell_type": "markdown",
   "metadata": {},
   "source": [
    "# 2. CNN network"
   ]
  },
  {
   "cell_type": "code",
   "execution_count": 8,
   "metadata": {},
   "outputs": [],
   "source": [
    "x_total_ak = x_total_res_indicators5.reshape(x_total_res_indicators5.shape[0],x_total_res_indicators5.shape[1]*x_total_res_indicators5.shape[2],x_total_res_indicators5.shape[3])\n",
    "y_total_ak = y_total_res_raw\n",
    "\n",
    "x_train_ak = x_train_res_indicators5.reshape(x_train_res_indicators5.shape[0],x_train_res_indicators5.shape[1]*x_train_res_indicators5.shape[2],x_train_res_indicators5.shape[3])\n",
    "y_train_ak = y_train_res_raw\n",
    "\n",
    "x_val_ak = x_val_res_indicators5.reshape(x_val_res_indicators5.shape[0],x_val_res_indicators5.shape[1]*x_val_res_indicators5.shape[2],x_val_res_indicators5.shape[3])\n",
    "y_val_ak = y_val_res_raw\n",
    "\n",
    "\n",
    "x_test_ak = x_test_indicators5.reshape(x_test_indicators5.shape[0],x_test_indicators5.shape[1]*x_test_indicators5.shape[2],x_test_indicators5.shape[3])\n",
    "y_test_ak = y_test_raw\n",
    "\n",
    "x_test_res_ak = x_test_res_indicators5.reshape(x_test_res_indicators5.shape[0],x_test_res_indicators5.shape[1]*x_test_res_indicators5.shape[2],x_test_res_indicators5.shape[3])\n",
    "y_test_res_ak = y_test_res_raw\n"
   ]
  },
  {
   "cell_type": "code",
   "execution_count": 9,
   "metadata": {},
   "outputs": [
    {
     "data": {
      "text/plain": [
       "(2590, 21960, 5)"
      ]
     },
     "execution_count": 9,
     "metadata": {},
     "output_type": "execute_result"
    }
   ],
   "source": [
    "x_total_ak.shape"
   ]
  },
  {
   "cell_type": "code",
   "execution_count": 11,
   "metadata": {},
   "outputs": [
    {
     "ename": "TypeError",
     "evalue": "__init__() got an unexpected keyword argument 'seed'",
     "output_type": "error",
     "traceback": [
      "\u001b[0;31m---------------------------------------------------------------------------\u001b[0m",
      "\u001b[0;31mTypeError\u001b[0m                                 Traceback (most recent call last)",
      "\u001b[0;32m<ipython-input-11-46defb1511b4>\u001b[0m in \u001b[0;36m<module>\u001b[0;34m\u001b[0m\n\u001b[1;32m      3\u001b[0m \u001b[0mclf\u001b[0m \u001b[0;34m=\u001b[0m \u001b[0mak\u001b[0m\u001b[0;34m.\u001b[0m\u001b[0mImageClassifier\u001b[0m\u001b[0;34m(\u001b[0m\u001b[0mmax_trials\u001b[0m\u001b[0;34m=\u001b[0m\u001b[0;36m10\u001b[0m\u001b[0;34m)\u001b[0m \u001b[0;31m# It tries 10 different models.\u001b[0m\u001b[0;34m\u001b[0m\u001b[0;34m\u001b[0m\u001b[0m\n\u001b[1;32m      4\u001b[0m \u001b[0;31m# Feed the image classifier with training data.\u001b[0m\u001b[0;34m\u001b[0m\u001b[0;34m\u001b[0m\u001b[0;34m\u001b[0m\u001b[0m\n\u001b[0;32m----> 5\u001b[0;31m \u001b[0mclf\u001b[0m\u001b[0;34m.\u001b[0m\u001b[0mfit\u001b[0m\u001b[0;34m(\u001b[0m\u001b[0mx_train_res_indicators5\u001b[0m\u001b[0;34m,\u001b[0m \u001b[0my_train_res_raw\u001b[0m\u001b[0;34m,\u001b[0m\u001b[0mvalidation_data\u001b[0m\u001b[0;34m=\u001b[0m\u001b[0;34m(\u001b[0m\u001b[0mx_val_res_indicators5\u001b[0m\u001b[0;34m,\u001b[0m \u001b[0my_val_res_raw\u001b[0m\u001b[0;34m)\u001b[0m\u001b[0;34m,\u001b[0m\u001b[0mseed\u001b[0m\u001b[0;34m=\u001b[0m\u001b[0;32mNone\u001b[0m\u001b[0;34m)\u001b[0m\u001b[0;34m\u001b[0m\u001b[0;34m\u001b[0m\u001b[0m\n\u001b[0m",
      "\u001b[0;32m~/anaconda3/envs/py36/lib/python3.6/site-packages/autokeras/task.py\u001b[0m in \u001b[0;36mfit\u001b[0;34m(self, x, y, epochs, callbacks, validation_split, validation_data, **kwargs)\u001b[0m\n\u001b[1;32m    109\u001b[0m                     \u001b[0mvalidation_split\u001b[0m\u001b[0;34m=\u001b[0m\u001b[0mvalidation_split\u001b[0m\u001b[0;34m,\u001b[0m\u001b[0;34m\u001b[0m\u001b[0;34m\u001b[0m\u001b[0m\n\u001b[1;32m    110\u001b[0m                     \u001b[0mvalidation_data\u001b[0m\u001b[0;34m=\u001b[0m\u001b[0mvalidation_data\u001b[0m\u001b[0;34m,\u001b[0m\u001b[0;34m\u001b[0m\u001b[0;34m\u001b[0m\u001b[0m\n\u001b[0;32m--> 111\u001b[0;31m                     **kwargs)\n\u001b[0m\u001b[1;32m    112\u001b[0m \u001b[0;34m\u001b[0m\u001b[0m\n\u001b[1;32m    113\u001b[0m \u001b[0;34m\u001b[0m\u001b[0m\n",
      "\u001b[0;32m~/anaconda3/envs/py36/lib/python3.6/site-packages/autokeras/auto_model.py\u001b[0m in \u001b[0;36mfit\u001b[0;34m(self, x, y, epochs, callbacks, validation_split, validation_data, **kwargs)\u001b[0m\n\u001b[1;32m    157\u001b[0m                           \u001b[0mcallbacks\u001b[0m\u001b[0;34m=\u001b[0m\u001b[0mcallbacks\u001b[0m\u001b[0;34m,\u001b[0m\u001b[0;34m\u001b[0m\u001b[0;34m\u001b[0m\u001b[0m\n\u001b[1;32m    158\u001b[0m                           \u001b[0mvalidation_data\u001b[0m\u001b[0;34m=\u001b[0m\u001b[0mvalidation_data\u001b[0m\u001b[0;34m,\u001b[0m\u001b[0;34m\u001b[0m\u001b[0;34m\u001b[0m\u001b[0m\n\u001b[0;32m--> 159\u001b[0;31m                           **kwargs)\n\u001b[0m\u001b[1;32m    160\u001b[0m \u001b[0;34m\u001b[0m\u001b[0m\n\u001b[1;32m    161\u001b[0m     \u001b[0;32mdef\u001b[0m \u001b[0m_process_xy\u001b[0m\u001b[0;34m(\u001b[0m\u001b[0mself\u001b[0m\u001b[0;34m,\u001b[0m \u001b[0mx\u001b[0m\u001b[0;34m,\u001b[0m \u001b[0my\u001b[0m\u001b[0;34m=\u001b[0m\u001b[0;32mNone\u001b[0m\u001b[0;34m,\u001b[0m \u001b[0mfit\u001b[0m\u001b[0;34m=\u001b[0m\u001b[0;32mFalse\u001b[0m\u001b[0;34m,\u001b[0m \u001b[0mpredict\u001b[0m\u001b[0;34m=\u001b[0m\u001b[0;32mFalse\u001b[0m\u001b[0;34m)\u001b[0m\u001b[0;34m:\u001b[0m\u001b[0;34m\u001b[0m\u001b[0;34m\u001b[0m\u001b[0m\n",
      "\u001b[0;32m~/anaconda3/envs/py36/lib/python3.6/site-packages/autokeras/tuner.py\u001b[0m in \u001b[0;36msearch\u001b[0;34m(self, callbacks, **fit_kwargs)\u001b[0m\n\u001b[1;32m    130\u001b[0m             \u001b[0mnew_callbacks\u001b[0m\u001b[0;34m.\u001b[0m\u001b[0mappend\u001b[0m\u001b[0;34m(\u001b[0m\u001b[0mtf\u001b[0m\u001b[0;34m.\u001b[0m\u001b[0mkeras\u001b[0m\u001b[0;34m.\u001b[0m\u001b[0mcallbacks\u001b[0m\u001b[0;34m.\u001b[0m\u001b[0mEarlyStopping\u001b[0m\u001b[0;34m(\u001b[0m\u001b[0mpatience\u001b[0m\u001b[0;34m=\u001b[0m\u001b[0;36m10\u001b[0m\u001b[0;34m)\u001b[0m\u001b[0;34m)\u001b[0m\u001b[0;34m\u001b[0m\u001b[0;34m\u001b[0m\u001b[0m\n\u001b[1;32m    131\u001b[0m \u001b[0;34m\u001b[0m\u001b[0m\n\u001b[0;32m--> 132\u001b[0;31m         \u001b[0msuper\u001b[0m\u001b[0;34m(\u001b[0m\u001b[0;34m)\u001b[0m\u001b[0;34m.\u001b[0m\u001b[0msearch\u001b[0m\u001b[0;34m(\u001b[0m\u001b[0mcallbacks\u001b[0m\u001b[0;34m=\u001b[0m\u001b[0mnew_callbacks\u001b[0m\u001b[0;34m,\u001b[0m \u001b[0;34m**\u001b[0m\u001b[0mfit_kwargs\u001b[0m\u001b[0;34m)\u001b[0m\u001b[0;34m\u001b[0m\u001b[0;34m\u001b[0m\u001b[0m\n\u001b[0m\u001b[1;32m    133\u001b[0m \u001b[0;34m\u001b[0m\u001b[0m\n\u001b[1;32m    134\u001b[0m         \u001b[0mbest_trial\u001b[0m \u001b[0;34m=\u001b[0m \u001b[0mself\u001b[0m\u001b[0;34m.\u001b[0m\u001b[0moracle\u001b[0m\u001b[0;34m.\u001b[0m\u001b[0mget_best_trials\u001b[0m\u001b[0;34m(\u001b[0m\u001b[0;36m1\u001b[0m\u001b[0;34m)\u001b[0m\u001b[0;34m[\u001b[0m\u001b[0;36m0\u001b[0m\u001b[0;34m]\u001b[0m\u001b[0;34m\u001b[0m\u001b[0;34m\u001b[0m\u001b[0m\n",
      "\u001b[0;32m~/anaconda3/envs/py36/lib/python3.6/site-packages/kerastuner/engine/base_tuner.py\u001b[0m in \u001b[0;36msearch\u001b[0;34m(self, *fit_args, **fit_kwargs)\u001b[0m\n\u001b[1;32m    120\u001b[0m \u001b[0;34m\u001b[0m\u001b[0m\n\u001b[1;32m    121\u001b[0m             \u001b[0mself\u001b[0m\u001b[0;34m.\u001b[0m\u001b[0mon_trial_begin\u001b[0m\u001b[0;34m(\u001b[0m\u001b[0mtrial\u001b[0m\u001b[0;34m)\u001b[0m\u001b[0;34m\u001b[0m\u001b[0;34m\u001b[0m\u001b[0m\n\u001b[0;32m--> 122\u001b[0;31m             \u001b[0mself\u001b[0m\u001b[0;34m.\u001b[0m\u001b[0mrun_trial\u001b[0m\u001b[0;34m(\u001b[0m\u001b[0mtrial\u001b[0m\u001b[0;34m,\u001b[0m \u001b[0;34m*\u001b[0m\u001b[0mfit_args\u001b[0m\u001b[0;34m,\u001b[0m \u001b[0;34m**\u001b[0m\u001b[0mfit_kwargs\u001b[0m\u001b[0;34m)\u001b[0m\u001b[0;34m\u001b[0m\u001b[0;34m\u001b[0m\u001b[0m\n\u001b[0m\u001b[1;32m    123\u001b[0m             \u001b[0mself\u001b[0m\u001b[0;34m.\u001b[0m\u001b[0mon_trial_end\u001b[0m\u001b[0;34m(\u001b[0m\u001b[0mtrial\u001b[0m\u001b[0;34m)\u001b[0m\u001b[0;34m\u001b[0m\u001b[0;34m\u001b[0m\u001b[0m\n\u001b[1;32m    124\u001b[0m         \u001b[0mself\u001b[0m\u001b[0;34m.\u001b[0m\u001b[0mon_search_end\u001b[0m\u001b[0;34m(\u001b[0m\u001b[0;34m)\u001b[0m\u001b[0;34m\u001b[0m\u001b[0;34m\u001b[0m\u001b[0m\n",
      "\u001b[0;32m~/anaconda3/envs/py36/lib/python3.6/site-packages/autokeras/tuner.py\u001b[0m in \u001b[0;36mrun_trial\u001b[0;34m(self, trial, **fit_kwargs)\u001b[0m\n\u001b[1;32m     44\u001b[0m         \u001b[0;31m# Preprocess the dataset and set the shapes of the HyperNodes.\u001b[0m\u001b[0;34m\u001b[0m\u001b[0;34m\u001b[0m\u001b[0;34m\u001b[0m\u001b[0m\n\u001b[1;32m     45\u001b[0m         self.preprocess_graph, keras_graph = self.hyper_graph.build_graphs(\n\u001b[0;32m---> 46\u001b[0;31m             trial.hyperparameters)\n\u001b[0m\u001b[1;32m     47\u001b[0m         \u001b[0mself\u001b[0m\u001b[0;34m.\u001b[0m\u001b[0mhypermodel\u001b[0m \u001b[0;34m=\u001b[0m \u001b[0mhm_module\u001b[0m\u001b[0;34m.\u001b[0m\u001b[0mKerasHyperModel\u001b[0m\u001b[0;34m(\u001b[0m\u001b[0mkeras_graph\u001b[0m\u001b[0;34m)\u001b[0m\u001b[0;34m\u001b[0m\u001b[0;34m\u001b[0m\u001b[0m\n\u001b[1;32m     48\u001b[0m \u001b[0;34m\u001b[0m\u001b[0m\n",
      "\u001b[0;32m~/anaconda3/envs/py36/lib/python3.6/site-packages/autokeras/hypermodel/graph.py\u001b[0m in \u001b[0;36mbuild_graphs\u001b[0;34m(self, hp)\u001b[0m\n\u001b[1;32m    433\u001b[0m \u001b[0;34m\u001b[0m\u001b[0m\n\u001b[1;32m    434\u001b[0m     \u001b[0;32mdef\u001b[0m \u001b[0mbuild_graphs\u001b[0m\u001b[0;34m(\u001b[0m\u001b[0mself\u001b[0m\u001b[0;34m,\u001b[0m \u001b[0mhp\u001b[0m\u001b[0;34m)\u001b[0m\u001b[0;34m:\u001b[0m\u001b[0;34m\u001b[0m\u001b[0;34m\u001b[0m\u001b[0m\n\u001b[0;32m--> 435\u001b[0;31m         \u001b[0mplain_graph\u001b[0m \u001b[0;34m=\u001b[0m \u001b[0mself\u001b[0m\u001b[0;34m.\u001b[0m\u001b[0mhyper_build\u001b[0m\u001b[0;34m(\u001b[0m\u001b[0mhp\u001b[0m\u001b[0;34m)\u001b[0m\u001b[0;34m\u001b[0m\u001b[0;34m\u001b[0m\u001b[0m\n\u001b[0m\u001b[1;32m    436\u001b[0m         \u001b[0mpreprocess_graph\u001b[0m \u001b[0;34m=\u001b[0m \u001b[0mplain_graph\u001b[0m\u001b[0;34m.\u001b[0m\u001b[0mbuild_preprocess_graph\u001b[0m\u001b[0;34m(\u001b[0m\u001b[0;34m)\u001b[0m\u001b[0;34m\u001b[0m\u001b[0;34m\u001b[0m\u001b[0m\n\u001b[1;32m    437\u001b[0m         \u001b[0mpreprocess_graph\u001b[0m\u001b[0;34m.\u001b[0m\u001b[0mbuild\u001b[0m\u001b[0;34m(\u001b[0m\u001b[0mhp\u001b[0m\u001b[0;34m)\u001b[0m\u001b[0;34m\u001b[0m\u001b[0;34m\u001b[0m\u001b[0m\n",
      "\u001b[0;32m~/anaconda3/envs/py36/lib/python3.6/site-packages/autokeras/hypermodel/graph.py\u001b[0m in \u001b[0;36mhyper_build\u001b[0;34m(self, hp)\u001b[0m\n\u001b[1;32m    453\u001b[0m                       for input_node in old_block.inputs]\n\u001b[1;32m    454\u001b[0m             \u001b[0;32mif\u001b[0m \u001b[0misinstance\u001b[0m\u001b[0;34m(\u001b[0m\u001b[0mold_block\u001b[0m\u001b[0;34m,\u001b[0m \u001b[0mbase\u001b[0m\u001b[0;34m.\u001b[0m\u001b[0mHyperBlock\u001b[0m\u001b[0;34m)\u001b[0m\u001b[0;34m:\u001b[0m\u001b[0;34m\u001b[0m\u001b[0;34m\u001b[0m\u001b[0m\n\u001b[0;32m--> 455\u001b[0;31m                 \u001b[0moutputs\u001b[0m \u001b[0;34m=\u001b[0m \u001b[0mold_block\u001b[0m\u001b[0;34m.\u001b[0m\u001b[0mbuild\u001b[0m\u001b[0;34m(\u001b[0m\u001b[0mhp\u001b[0m\u001b[0;34m,\u001b[0m \u001b[0minputs\u001b[0m\u001b[0;34m=\u001b[0m\u001b[0minputs\u001b[0m\u001b[0;34m)\u001b[0m\u001b[0;34m\u001b[0m\u001b[0;34m\u001b[0m\u001b[0m\n\u001b[0m\u001b[1;32m    456\u001b[0m             \u001b[0;32melse\u001b[0m\u001b[0;34m:\u001b[0m\u001b[0;34m\u001b[0m\u001b[0;34m\u001b[0m\u001b[0m\n\u001b[1;32m    457\u001b[0m                 \u001b[0moutputs\u001b[0m \u001b[0;34m=\u001b[0m \u001b[0mcopy\u001b[0m\u001b[0;34m(\u001b[0m\u001b[0mold_block\u001b[0m\u001b[0;34m)\u001b[0m\u001b[0;34m(\u001b[0m\u001b[0minputs\u001b[0m\u001b[0;34m)\u001b[0m\u001b[0;34m\u001b[0m\u001b[0;34m\u001b[0m\u001b[0m\n",
      "\u001b[0;32m~/anaconda3/envs/py36/lib/python3.6/site-packages/autokeras/hypermodel/base.py\u001b[0m in \u001b[0;36m_build_wrapper\u001b[0;34m(self, hp, *args, **kwargs)\u001b[0m\n\u001b[1;32m     63\u001b[0m \u001b[0;34m\u001b[0m\u001b[0m\n\u001b[1;32m     64\u001b[0m         \u001b[0;32mwith\u001b[0m \u001b[0mhp\u001b[0m\u001b[0;34m.\u001b[0m\u001b[0mname_scope\u001b[0m\u001b[0;34m(\u001b[0m\u001b[0mself\u001b[0m\u001b[0;34m.\u001b[0m\u001b[0mname\u001b[0m\u001b[0;34m)\u001b[0m\u001b[0;34m:\u001b[0m\u001b[0;34m\u001b[0m\u001b[0;34m\u001b[0m\u001b[0m\n\u001b[0;32m---> 65\u001b[0;31m             \u001b[0;32mreturn\u001b[0m \u001b[0mself\u001b[0m\u001b[0;34m.\u001b[0m\u001b[0m_build\u001b[0m\u001b[0;34m(\u001b[0m\u001b[0mhp\u001b[0m\u001b[0;34m,\u001b[0m \u001b[0;34m*\u001b[0m\u001b[0margs\u001b[0m\u001b[0;34m,\u001b[0m \u001b[0;34m**\u001b[0m\u001b[0mkwargs\u001b[0m\u001b[0;34m)\u001b[0m\u001b[0;34m\u001b[0m\u001b[0;34m\u001b[0m\u001b[0m\n\u001b[0m\u001b[1;32m     66\u001b[0m \u001b[0;34m\u001b[0m\u001b[0m\n\u001b[1;32m     67\u001b[0m     \u001b[0;32mdef\u001b[0m \u001b[0m__call__\u001b[0m\u001b[0;34m(\u001b[0m\u001b[0mself\u001b[0m\u001b[0;34m,\u001b[0m \u001b[0minputs\u001b[0m\u001b[0;34m)\u001b[0m\u001b[0;34m:\u001b[0m\u001b[0;34m\u001b[0m\u001b[0;34m\u001b[0m\u001b[0m\n",
      "\u001b[0;32m~/anaconda3/envs/py36/lib/python3.6/site-packages/autokeras/hypermodel/hyperblock.py\u001b[0m in \u001b[0;36mbuild\u001b[0;34m(self, hp, inputs)\u001b[0m\n\u001b[1;32m     67\u001b[0m         \u001b[0;32mif\u001b[0m \u001b[0maugment\u001b[0m\u001b[0;34m:\u001b[0m\u001b[0;34m\u001b[0m\u001b[0;34m\u001b[0m\u001b[0m\n\u001b[1;32m     68\u001b[0m             output_node = preprocessor_module.ImageAugmentation(\n\u001b[0;32m---> 69\u001b[0;31m                 seed=self.seed)(output_node)\n\u001b[0m\u001b[1;32m     70\u001b[0m         \u001b[0msub_block_name\u001b[0m \u001b[0;34m=\u001b[0m \u001b[0mself\u001b[0m\u001b[0;34m.\u001b[0m\u001b[0mname\u001b[0m \u001b[0;34m+\u001b[0m \u001b[0;34m'_'\u001b[0m \u001b[0;34m+\u001b[0m \u001b[0mblock_type\u001b[0m\u001b[0;34m\u001b[0m\u001b[0;34m\u001b[0m\u001b[0m\n\u001b[1;32m     71\u001b[0m         \u001b[0;32mif\u001b[0m \u001b[0mblock_type\u001b[0m \u001b[0;34m==\u001b[0m \u001b[0;34m'resnet'\u001b[0m\u001b[0;34m:\u001b[0m\u001b[0;34m\u001b[0m\u001b[0;34m\u001b[0m\u001b[0m\n",
      "\u001b[0;32m~/anaconda3/envs/py36/lib/python3.6/site-packages/autokeras/hypermodel/preprocessor.py\u001b[0m in \u001b[0;36m__init__\u001b[0;34m(self, percentage, rotation_range, random_crop, brightness_range, saturation_range, contrast_range, translation, horizontal_flip, vertical_flip, gaussian_noise, **kwargs)\u001b[0m\n\u001b[1;32m    450\u001b[0m                  \u001b[0mgaussian_noise\u001b[0m\u001b[0;34m=\u001b[0m\u001b[0;32mTrue\u001b[0m\u001b[0;34m,\u001b[0m\u001b[0;34m\u001b[0m\u001b[0;34m\u001b[0m\u001b[0m\n\u001b[1;32m    451\u001b[0m                  **kwargs):\n\u001b[0;32m--> 452\u001b[0;31m         \u001b[0msuper\u001b[0m\u001b[0;34m(\u001b[0m\u001b[0;34m)\u001b[0m\u001b[0;34m.\u001b[0m\u001b[0m__init__\u001b[0m\u001b[0;34m(\u001b[0m\u001b[0;34m**\u001b[0m\u001b[0mkwargs\u001b[0m\u001b[0;34m)\u001b[0m\u001b[0;34m\u001b[0m\u001b[0;34m\u001b[0m\u001b[0m\n\u001b[0m\u001b[1;32m    453\u001b[0m         \u001b[0mself\u001b[0m\u001b[0;34m.\u001b[0m\u001b[0mpercentage\u001b[0m \u001b[0;34m=\u001b[0m \u001b[0mpercentage\u001b[0m\u001b[0;34m\u001b[0m\u001b[0;34m\u001b[0m\u001b[0m\n\u001b[1;32m    454\u001b[0m         \u001b[0mself\u001b[0m\u001b[0;34m.\u001b[0m\u001b[0mrotation_range\u001b[0m \u001b[0;34m=\u001b[0m \u001b[0mrotation_range\u001b[0m\u001b[0;34m\u001b[0m\u001b[0;34m\u001b[0m\u001b[0m\n",
      "\u001b[0;32m~/anaconda3/envs/py36/lib/python3.6/site-packages/autokeras/hypermodel/base.py\u001b[0m in \u001b[0;36m__init__\u001b[0;34m(self, name, **kwargs)\u001b[0m\n\u001b[1;32m     46\u001b[0m \u001b[0;34m\u001b[0m\u001b[0m\n\u001b[1;32m     47\u001b[0m     \u001b[0;32mdef\u001b[0m \u001b[0m__init__\u001b[0m\u001b[0;34m(\u001b[0m\u001b[0mself\u001b[0m\u001b[0;34m,\u001b[0m \u001b[0mname\u001b[0m\u001b[0;34m=\u001b[0m\u001b[0;32mNone\u001b[0m\u001b[0;34m,\u001b[0m \u001b[0;34m**\u001b[0m\u001b[0mkwargs\u001b[0m\u001b[0;34m)\u001b[0m\u001b[0;34m:\u001b[0m\u001b[0;34m\u001b[0m\u001b[0;34m\u001b[0m\u001b[0m\n\u001b[0;32m---> 48\u001b[0;31m         \u001b[0msuper\u001b[0m\u001b[0;34m(\u001b[0m\u001b[0;34m)\u001b[0m\u001b[0;34m.\u001b[0m\u001b[0m__init__\u001b[0m\u001b[0;34m(\u001b[0m\u001b[0;34m**\u001b[0m\u001b[0mkwargs\u001b[0m\u001b[0;34m)\u001b[0m\u001b[0;34m\u001b[0m\u001b[0;34m\u001b[0m\u001b[0m\n\u001b[0m\u001b[1;32m     49\u001b[0m         \u001b[0;32mif\u001b[0m \u001b[0;32mnot\u001b[0m \u001b[0mname\u001b[0m\u001b[0;34m:\u001b[0m\u001b[0;34m\u001b[0m\u001b[0;34m\u001b[0m\u001b[0m\n\u001b[1;32m     50\u001b[0m             \u001b[0mprefix\u001b[0m \u001b[0;34m=\u001b[0m \u001b[0mself\u001b[0m\u001b[0;34m.\u001b[0m\u001b[0m__class__\u001b[0m\u001b[0;34m.\u001b[0m\u001b[0m__name__\u001b[0m\u001b[0;34m\u001b[0m\u001b[0;34m\u001b[0m\u001b[0m\n",
      "\u001b[0;31mTypeError\u001b[0m: __init__() got an unexpected keyword argument 'seed'"
     ]
    }
   ],
   "source": [
    "#  ImageClassifier\n",
    "# Initialize the image classifier.\n",
    "clf = ak.ImageClassifier(max_trials=10) # It tries 10 different models.\n",
    "# Feed the image classifier with training data.\n",
    "clf.fit(x_train_res_indicators5, y_train_res_raw,validation_data=(x_val_res_indicators5, y_val_res_raw),seed=None)\n"
   ]
  },
  {
   "cell_type": "code",
   "execution_count": null,
   "metadata": {},
   "outputs": [],
   "source": [
    "# Predict with the best model.\n",
    "predicted_y = clf.predict(x_test_indicators5)\n",
    "# Evaluate the best model with testing data.\n",
    "print(clf.evaluate(x_test_indicators5, y_test_raw))"
   ]
  },
  {
   "cell_type": "code",
   "execution_count": 13,
   "metadata": {},
   "outputs": [
    {
     "ename": "TypeError",
     "evalue": "__init__() got an unexpected keyword argument 'seed'",
     "output_type": "error",
     "traceback": [
      "\u001b[0;31m---------------------------------------------------------------------------\u001b[0m",
      "\u001b[0;31mTypeError\u001b[0m                                 Traceback (most recent call last)",
      "\u001b[0;32m<ipython-input-13-0628021a31f4>\u001b[0m in \u001b[0;36m<module>\u001b[0;34m\u001b[0m\n\u001b[1;32m     15\u001b[0m \u001b[0;31m#     seed=None\u001b[0m\u001b[0;34m\u001b[0m\u001b[0;34m\u001b[0m\u001b[0;34m\u001b[0m\u001b[0m\n\u001b[1;32m     16\u001b[0m )\n\u001b[0;32m---> 17\u001b[0;31m \u001b[0mhistory_clf\u001b[0m\u001b[0;34m=\u001b[0m\u001b[0mclf\u001b[0m\u001b[0;34m.\u001b[0m\u001b[0mfit\u001b[0m\u001b[0;34m(\u001b[0m\u001b[0mx_train_res_indicators5\u001b[0m\u001b[0;34m,\u001b[0m \u001b[0my_train_res_raw\u001b[0m\u001b[0;34m,\u001b[0m\u001b[0mvalidation_data\u001b[0m\u001b[0;34m=\u001b[0m\u001b[0;34m(\u001b[0m\u001b[0mx_val_res_indicators5\u001b[0m\u001b[0;34m,\u001b[0m \u001b[0my_val_res_raw\u001b[0m\u001b[0;34m)\u001b[0m\u001b[0;34m)\u001b[0m\u001b[0;34m\u001b[0m\u001b[0;34m\u001b[0m\u001b[0m\n\u001b[0m",
      "\u001b[0;32m~/anaconda3/envs/py36/lib/python3.6/site-packages/autokeras/auto_model.py\u001b[0m in \u001b[0;36mfit\u001b[0;34m(self, x, y, epochs, callbacks, validation_split, validation_data, **kwargs)\u001b[0m\n\u001b[1;32m    157\u001b[0m                           \u001b[0mcallbacks\u001b[0m\u001b[0;34m=\u001b[0m\u001b[0mcallbacks\u001b[0m\u001b[0;34m,\u001b[0m\u001b[0;34m\u001b[0m\u001b[0;34m\u001b[0m\u001b[0m\n\u001b[1;32m    158\u001b[0m                           \u001b[0mvalidation_data\u001b[0m\u001b[0;34m=\u001b[0m\u001b[0mvalidation_data\u001b[0m\u001b[0;34m,\u001b[0m\u001b[0;34m\u001b[0m\u001b[0;34m\u001b[0m\u001b[0m\n\u001b[0;32m--> 159\u001b[0;31m                           **kwargs)\n\u001b[0m\u001b[1;32m    160\u001b[0m \u001b[0;34m\u001b[0m\u001b[0m\n\u001b[1;32m    161\u001b[0m     \u001b[0;32mdef\u001b[0m \u001b[0m_process_xy\u001b[0m\u001b[0;34m(\u001b[0m\u001b[0mself\u001b[0m\u001b[0;34m,\u001b[0m \u001b[0mx\u001b[0m\u001b[0;34m,\u001b[0m \u001b[0my\u001b[0m\u001b[0;34m=\u001b[0m\u001b[0;32mNone\u001b[0m\u001b[0;34m,\u001b[0m \u001b[0mfit\u001b[0m\u001b[0;34m=\u001b[0m\u001b[0;32mFalse\u001b[0m\u001b[0;34m,\u001b[0m \u001b[0mpredict\u001b[0m\u001b[0;34m=\u001b[0m\u001b[0;32mFalse\u001b[0m\u001b[0;34m)\u001b[0m\u001b[0;34m:\u001b[0m\u001b[0;34m\u001b[0m\u001b[0;34m\u001b[0m\u001b[0m\n",
      "\u001b[0;32m~/anaconda3/envs/py36/lib/python3.6/site-packages/autokeras/tuner.py\u001b[0m in \u001b[0;36msearch\u001b[0;34m(self, callbacks, **fit_kwargs)\u001b[0m\n\u001b[1;32m    130\u001b[0m             \u001b[0mnew_callbacks\u001b[0m\u001b[0;34m.\u001b[0m\u001b[0mappend\u001b[0m\u001b[0;34m(\u001b[0m\u001b[0mtf\u001b[0m\u001b[0;34m.\u001b[0m\u001b[0mkeras\u001b[0m\u001b[0;34m.\u001b[0m\u001b[0mcallbacks\u001b[0m\u001b[0;34m.\u001b[0m\u001b[0mEarlyStopping\u001b[0m\u001b[0;34m(\u001b[0m\u001b[0mpatience\u001b[0m\u001b[0;34m=\u001b[0m\u001b[0;36m10\u001b[0m\u001b[0;34m)\u001b[0m\u001b[0;34m)\u001b[0m\u001b[0;34m\u001b[0m\u001b[0;34m\u001b[0m\u001b[0m\n\u001b[1;32m    131\u001b[0m \u001b[0;34m\u001b[0m\u001b[0m\n\u001b[0;32m--> 132\u001b[0;31m         \u001b[0msuper\u001b[0m\u001b[0;34m(\u001b[0m\u001b[0;34m)\u001b[0m\u001b[0;34m.\u001b[0m\u001b[0msearch\u001b[0m\u001b[0;34m(\u001b[0m\u001b[0mcallbacks\u001b[0m\u001b[0;34m=\u001b[0m\u001b[0mnew_callbacks\u001b[0m\u001b[0;34m,\u001b[0m \u001b[0;34m**\u001b[0m\u001b[0mfit_kwargs\u001b[0m\u001b[0;34m)\u001b[0m\u001b[0;34m\u001b[0m\u001b[0;34m\u001b[0m\u001b[0m\n\u001b[0m\u001b[1;32m    133\u001b[0m \u001b[0;34m\u001b[0m\u001b[0m\n\u001b[1;32m    134\u001b[0m         \u001b[0mbest_trial\u001b[0m \u001b[0;34m=\u001b[0m \u001b[0mself\u001b[0m\u001b[0;34m.\u001b[0m\u001b[0moracle\u001b[0m\u001b[0;34m.\u001b[0m\u001b[0mget_best_trials\u001b[0m\u001b[0;34m(\u001b[0m\u001b[0;36m1\u001b[0m\u001b[0;34m)\u001b[0m\u001b[0;34m[\u001b[0m\u001b[0;36m0\u001b[0m\u001b[0;34m]\u001b[0m\u001b[0;34m\u001b[0m\u001b[0;34m\u001b[0m\u001b[0m\n",
      "\u001b[0;32m~/anaconda3/envs/py36/lib/python3.6/site-packages/kerastuner/engine/base_tuner.py\u001b[0m in \u001b[0;36msearch\u001b[0;34m(self, *fit_args, **fit_kwargs)\u001b[0m\n\u001b[1;32m    120\u001b[0m \u001b[0;34m\u001b[0m\u001b[0m\n\u001b[1;32m    121\u001b[0m             \u001b[0mself\u001b[0m\u001b[0;34m.\u001b[0m\u001b[0mon_trial_begin\u001b[0m\u001b[0;34m(\u001b[0m\u001b[0mtrial\u001b[0m\u001b[0;34m)\u001b[0m\u001b[0;34m\u001b[0m\u001b[0;34m\u001b[0m\u001b[0m\n\u001b[0;32m--> 122\u001b[0;31m             \u001b[0mself\u001b[0m\u001b[0;34m.\u001b[0m\u001b[0mrun_trial\u001b[0m\u001b[0;34m(\u001b[0m\u001b[0mtrial\u001b[0m\u001b[0;34m,\u001b[0m \u001b[0;34m*\u001b[0m\u001b[0mfit_args\u001b[0m\u001b[0;34m,\u001b[0m \u001b[0;34m**\u001b[0m\u001b[0mfit_kwargs\u001b[0m\u001b[0;34m)\u001b[0m\u001b[0;34m\u001b[0m\u001b[0;34m\u001b[0m\u001b[0m\n\u001b[0m\u001b[1;32m    123\u001b[0m             \u001b[0mself\u001b[0m\u001b[0;34m.\u001b[0m\u001b[0mon_trial_end\u001b[0m\u001b[0;34m(\u001b[0m\u001b[0mtrial\u001b[0m\u001b[0;34m)\u001b[0m\u001b[0;34m\u001b[0m\u001b[0;34m\u001b[0m\u001b[0m\n\u001b[1;32m    124\u001b[0m         \u001b[0mself\u001b[0m\u001b[0;34m.\u001b[0m\u001b[0mon_search_end\u001b[0m\u001b[0;34m(\u001b[0m\u001b[0;34m)\u001b[0m\u001b[0;34m\u001b[0m\u001b[0;34m\u001b[0m\u001b[0m\n",
      "\u001b[0;32m~/anaconda3/envs/py36/lib/python3.6/site-packages/autokeras/tuner.py\u001b[0m in \u001b[0;36mrun_trial\u001b[0;34m(self, trial, **fit_kwargs)\u001b[0m\n\u001b[1;32m     44\u001b[0m         \u001b[0;31m# Preprocess the dataset and set the shapes of the HyperNodes.\u001b[0m\u001b[0;34m\u001b[0m\u001b[0;34m\u001b[0m\u001b[0;34m\u001b[0m\u001b[0m\n\u001b[1;32m     45\u001b[0m         self.preprocess_graph, keras_graph = self.hyper_graph.build_graphs(\n\u001b[0;32m---> 46\u001b[0;31m             trial.hyperparameters)\n\u001b[0m\u001b[1;32m     47\u001b[0m         \u001b[0mself\u001b[0m\u001b[0;34m.\u001b[0m\u001b[0mhypermodel\u001b[0m \u001b[0;34m=\u001b[0m \u001b[0mhm_module\u001b[0m\u001b[0;34m.\u001b[0m\u001b[0mKerasHyperModel\u001b[0m\u001b[0;34m(\u001b[0m\u001b[0mkeras_graph\u001b[0m\u001b[0;34m)\u001b[0m\u001b[0;34m\u001b[0m\u001b[0;34m\u001b[0m\u001b[0m\n\u001b[1;32m     48\u001b[0m \u001b[0;34m\u001b[0m\u001b[0m\n",
      "\u001b[0;32m~/anaconda3/envs/py36/lib/python3.6/site-packages/autokeras/hypermodel/graph.py\u001b[0m in \u001b[0;36mbuild_graphs\u001b[0;34m(self, hp)\u001b[0m\n\u001b[1;32m    433\u001b[0m \u001b[0;34m\u001b[0m\u001b[0m\n\u001b[1;32m    434\u001b[0m     \u001b[0;32mdef\u001b[0m \u001b[0mbuild_graphs\u001b[0m\u001b[0;34m(\u001b[0m\u001b[0mself\u001b[0m\u001b[0;34m,\u001b[0m \u001b[0mhp\u001b[0m\u001b[0;34m)\u001b[0m\u001b[0;34m:\u001b[0m\u001b[0;34m\u001b[0m\u001b[0;34m\u001b[0m\u001b[0m\n\u001b[0;32m--> 435\u001b[0;31m         \u001b[0mplain_graph\u001b[0m \u001b[0;34m=\u001b[0m \u001b[0mself\u001b[0m\u001b[0;34m.\u001b[0m\u001b[0mhyper_build\u001b[0m\u001b[0;34m(\u001b[0m\u001b[0mhp\u001b[0m\u001b[0;34m)\u001b[0m\u001b[0;34m\u001b[0m\u001b[0;34m\u001b[0m\u001b[0m\n\u001b[0m\u001b[1;32m    436\u001b[0m         \u001b[0mpreprocess_graph\u001b[0m \u001b[0;34m=\u001b[0m \u001b[0mplain_graph\u001b[0m\u001b[0;34m.\u001b[0m\u001b[0mbuild_preprocess_graph\u001b[0m\u001b[0;34m(\u001b[0m\u001b[0;34m)\u001b[0m\u001b[0;34m\u001b[0m\u001b[0;34m\u001b[0m\u001b[0m\n\u001b[1;32m    437\u001b[0m         \u001b[0mpreprocess_graph\u001b[0m\u001b[0;34m.\u001b[0m\u001b[0mbuild\u001b[0m\u001b[0;34m(\u001b[0m\u001b[0mhp\u001b[0m\u001b[0;34m)\u001b[0m\u001b[0;34m\u001b[0m\u001b[0;34m\u001b[0m\u001b[0m\n",
      "\u001b[0;32m~/anaconda3/envs/py36/lib/python3.6/site-packages/autokeras/hypermodel/graph.py\u001b[0m in \u001b[0;36mhyper_build\u001b[0;34m(self, hp)\u001b[0m\n\u001b[1;32m    453\u001b[0m                       for input_node in old_block.inputs]\n\u001b[1;32m    454\u001b[0m             \u001b[0;32mif\u001b[0m \u001b[0misinstance\u001b[0m\u001b[0;34m(\u001b[0m\u001b[0mold_block\u001b[0m\u001b[0;34m,\u001b[0m \u001b[0mbase\u001b[0m\u001b[0;34m.\u001b[0m\u001b[0mHyperBlock\u001b[0m\u001b[0;34m)\u001b[0m\u001b[0;34m:\u001b[0m\u001b[0;34m\u001b[0m\u001b[0;34m\u001b[0m\u001b[0m\n\u001b[0;32m--> 455\u001b[0;31m                 \u001b[0moutputs\u001b[0m \u001b[0;34m=\u001b[0m \u001b[0mold_block\u001b[0m\u001b[0;34m.\u001b[0m\u001b[0mbuild\u001b[0m\u001b[0;34m(\u001b[0m\u001b[0mhp\u001b[0m\u001b[0;34m,\u001b[0m \u001b[0minputs\u001b[0m\u001b[0;34m=\u001b[0m\u001b[0minputs\u001b[0m\u001b[0;34m)\u001b[0m\u001b[0;34m\u001b[0m\u001b[0;34m\u001b[0m\u001b[0m\n\u001b[0m\u001b[1;32m    456\u001b[0m             \u001b[0;32melse\u001b[0m\u001b[0;34m:\u001b[0m\u001b[0;34m\u001b[0m\u001b[0;34m\u001b[0m\u001b[0m\n\u001b[1;32m    457\u001b[0m                 \u001b[0moutputs\u001b[0m \u001b[0;34m=\u001b[0m \u001b[0mcopy\u001b[0m\u001b[0;34m(\u001b[0m\u001b[0mold_block\u001b[0m\u001b[0;34m)\u001b[0m\u001b[0;34m(\u001b[0m\u001b[0minputs\u001b[0m\u001b[0;34m)\u001b[0m\u001b[0;34m\u001b[0m\u001b[0;34m\u001b[0m\u001b[0m\n",
      "\u001b[0;32m~/anaconda3/envs/py36/lib/python3.6/site-packages/autokeras/hypermodel/base.py\u001b[0m in \u001b[0;36m_build_wrapper\u001b[0;34m(self, hp, *args, **kwargs)\u001b[0m\n\u001b[1;32m     63\u001b[0m \u001b[0;34m\u001b[0m\u001b[0m\n\u001b[1;32m     64\u001b[0m         \u001b[0;32mwith\u001b[0m \u001b[0mhp\u001b[0m\u001b[0;34m.\u001b[0m\u001b[0mname_scope\u001b[0m\u001b[0;34m(\u001b[0m\u001b[0mself\u001b[0m\u001b[0;34m.\u001b[0m\u001b[0mname\u001b[0m\u001b[0;34m)\u001b[0m\u001b[0;34m:\u001b[0m\u001b[0;34m\u001b[0m\u001b[0;34m\u001b[0m\u001b[0m\n\u001b[0;32m---> 65\u001b[0;31m             \u001b[0;32mreturn\u001b[0m \u001b[0mself\u001b[0m\u001b[0;34m.\u001b[0m\u001b[0m_build\u001b[0m\u001b[0;34m(\u001b[0m\u001b[0mhp\u001b[0m\u001b[0;34m,\u001b[0m \u001b[0;34m*\u001b[0m\u001b[0margs\u001b[0m\u001b[0;34m,\u001b[0m \u001b[0;34m**\u001b[0m\u001b[0mkwargs\u001b[0m\u001b[0;34m)\u001b[0m\u001b[0;34m\u001b[0m\u001b[0;34m\u001b[0m\u001b[0m\n\u001b[0m\u001b[1;32m     66\u001b[0m \u001b[0;34m\u001b[0m\u001b[0m\n\u001b[1;32m     67\u001b[0m     \u001b[0;32mdef\u001b[0m \u001b[0m__call__\u001b[0m\u001b[0;34m(\u001b[0m\u001b[0mself\u001b[0m\u001b[0;34m,\u001b[0m \u001b[0minputs\u001b[0m\u001b[0;34m)\u001b[0m\u001b[0;34m:\u001b[0m\u001b[0;34m\u001b[0m\u001b[0;34m\u001b[0m\u001b[0m\n",
      "\u001b[0;32m~/anaconda3/envs/py36/lib/python3.6/site-packages/autokeras/hypermodel/hyperblock.py\u001b[0m in \u001b[0;36mbuild\u001b[0;34m(self, hp, inputs)\u001b[0m\n\u001b[1;32m     67\u001b[0m         \u001b[0;32mif\u001b[0m \u001b[0maugment\u001b[0m\u001b[0;34m:\u001b[0m\u001b[0;34m\u001b[0m\u001b[0;34m\u001b[0m\u001b[0m\n\u001b[1;32m     68\u001b[0m             output_node = preprocessor_module.ImageAugmentation(\n\u001b[0;32m---> 69\u001b[0;31m                 seed=self.seed)(output_node)\n\u001b[0m\u001b[1;32m     70\u001b[0m         \u001b[0msub_block_name\u001b[0m \u001b[0;34m=\u001b[0m \u001b[0mself\u001b[0m\u001b[0;34m.\u001b[0m\u001b[0mname\u001b[0m \u001b[0;34m+\u001b[0m \u001b[0;34m'_'\u001b[0m \u001b[0;34m+\u001b[0m \u001b[0mblock_type\u001b[0m\u001b[0;34m\u001b[0m\u001b[0;34m\u001b[0m\u001b[0m\n\u001b[1;32m     71\u001b[0m         \u001b[0;32mif\u001b[0m \u001b[0mblock_type\u001b[0m \u001b[0;34m==\u001b[0m \u001b[0;34m'resnet'\u001b[0m\u001b[0;34m:\u001b[0m\u001b[0;34m\u001b[0m\u001b[0;34m\u001b[0m\u001b[0m\n",
      "\u001b[0;32m~/anaconda3/envs/py36/lib/python3.6/site-packages/autokeras/hypermodel/preprocessor.py\u001b[0m in \u001b[0;36m__init__\u001b[0;34m(self, percentage, rotation_range, random_crop, brightness_range, saturation_range, contrast_range, translation, horizontal_flip, vertical_flip, gaussian_noise, **kwargs)\u001b[0m\n\u001b[1;32m    450\u001b[0m                  \u001b[0mgaussian_noise\u001b[0m\u001b[0;34m=\u001b[0m\u001b[0;32mTrue\u001b[0m\u001b[0;34m,\u001b[0m\u001b[0;34m\u001b[0m\u001b[0;34m\u001b[0m\u001b[0m\n\u001b[1;32m    451\u001b[0m                  **kwargs):\n\u001b[0;32m--> 452\u001b[0;31m         \u001b[0msuper\u001b[0m\u001b[0;34m(\u001b[0m\u001b[0;34m)\u001b[0m\u001b[0;34m.\u001b[0m\u001b[0m__init__\u001b[0m\u001b[0;34m(\u001b[0m\u001b[0;34m**\u001b[0m\u001b[0mkwargs\u001b[0m\u001b[0;34m)\u001b[0m\u001b[0;34m\u001b[0m\u001b[0;34m\u001b[0m\u001b[0m\n\u001b[0m\u001b[1;32m    453\u001b[0m         \u001b[0mself\u001b[0m\u001b[0;34m.\u001b[0m\u001b[0mpercentage\u001b[0m \u001b[0;34m=\u001b[0m \u001b[0mpercentage\u001b[0m\u001b[0;34m\u001b[0m\u001b[0;34m\u001b[0m\u001b[0m\n\u001b[1;32m    454\u001b[0m         \u001b[0mself\u001b[0m\u001b[0;34m.\u001b[0m\u001b[0mrotation_range\u001b[0m \u001b[0;34m=\u001b[0m \u001b[0mrotation_range\u001b[0m\u001b[0;34m\u001b[0m\u001b[0;34m\u001b[0m\u001b[0m\n",
      "\u001b[0;32m~/anaconda3/envs/py36/lib/python3.6/site-packages/autokeras/hypermodel/base.py\u001b[0m in \u001b[0;36m__init__\u001b[0;34m(self, name, **kwargs)\u001b[0m\n\u001b[1;32m     46\u001b[0m \u001b[0;34m\u001b[0m\u001b[0m\n\u001b[1;32m     47\u001b[0m     \u001b[0;32mdef\u001b[0m \u001b[0m__init__\u001b[0m\u001b[0;34m(\u001b[0m\u001b[0mself\u001b[0m\u001b[0;34m,\u001b[0m \u001b[0mname\u001b[0m\u001b[0;34m=\u001b[0m\u001b[0;32mNone\u001b[0m\u001b[0;34m,\u001b[0m \u001b[0;34m**\u001b[0m\u001b[0mkwargs\u001b[0m\u001b[0;34m)\u001b[0m\u001b[0;34m:\u001b[0m\u001b[0;34m\u001b[0m\u001b[0;34m\u001b[0m\u001b[0m\n\u001b[0;32m---> 48\u001b[0;31m         \u001b[0msuper\u001b[0m\u001b[0;34m(\u001b[0m\u001b[0;34m)\u001b[0m\u001b[0;34m.\u001b[0m\u001b[0m__init__\u001b[0m\u001b[0;34m(\u001b[0m\u001b[0;34m**\u001b[0m\u001b[0mkwargs\u001b[0m\u001b[0;34m)\u001b[0m\u001b[0;34m\u001b[0m\u001b[0;34m\u001b[0m\u001b[0m\n\u001b[0m\u001b[1;32m     49\u001b[0m         \u001b[0;32mif\u001b[0m \u001b[0;32mnot\u001b[0m \u001b[0mname\u001b[0m\u001b[0;34m:\u001b[0m\u001b[0;34m\u001b[0m\u001b[0;34m\u001b[0m\u001b[0m\n\u001b[1;32m     50\u001b[0m             \u001b[0mprefix\u001b[0m \u001b[0;34m=\u001b[0m \u001b[0mself\u001b[0m\u001b[0;34m.\u001b[0m\u001b[0m__class__\u001b[0m\u001b[0;34m.\u001b[0m\u001b[0m__name__\u001b[0m\u001b[0;34m\u001b[0m\u001b[0;34m\u001b[0m\u001b[0m\n",
      "\u001b[0;31mTypeError\u001b[0m: __init__() got an unexpected keyword argument 'seed'"
     ]
    }
   ],
   "source": [
    "\n",
    "\n",
    "# clf = ak.AutoModel(\n",
    "#     inputs=ak.ImageInput(),\n",
    "#     outputs=ak.ClassificationHead(num_classes = 2),\n",
    "#     max_trials=10,\n",
    "# #     seed=None\n",
    "# )\n",
    "# history_clf=clf.fit(x_train_res_indicators5, y_train_res_raw,validation_data=(x_val_res_indicators5, y_val_res_raw))\n",
    "input_node = ak.ImageInput(shape = (x_total_res_indicators5.shape[1],x_total_res_indicators5.shape[2],x_total_res_indicators5.shape[3]))\n",
    "output_node = ak.ImageBlock(\n",
    "    # Only search ResNet architectures.\n",
    "#     block_type='resnet',\n",
    "    # Normalize the dataset.\n",
    "    normalize=True,\n",
    "    # Do not do data augmentation.\n",
    "    augment=False)(input_node)\n",
    "\n",
    "output_node = ak.ClassificationHead()(output_node)\n",
    "clf = ak.AutoModel(inputs=input_node, outputs=output_node, max_trials=10)\n",
    "clf.fit(x_train_res_indicators5, y_train_res_raw,validation_data=(x_val_res_indicators5, y_val_res_raw))\n"
   ]
  },
  {
   "cell_type": "code",
   "execution_count": 28,
   "metadata": {},
   "outputs": [
    {
     "ename": "AttributeError",
     "evalue": "'NoneType' object has no attribute 'name_scope'",
     "output_type": "error",
     "traceback": [
      "\u001b[0;31m---------------------------------------------------------------------------\u001b[0m",
      "\u001b[0;31mAttributeError\u001b[0m                            Traceback (most recent call last)",
      "\u001b[0;32m<ipython-input-28-900ce2b59c10>\u001b[0m in \u001b[0;36m<module>\u001b[0;34m\u001b[0m\n\u001b[1;32m      1\u001b[0m \u001b[0;31m# results = clf.predict(x_test_ak)\u001b[0m\u001b[0;34m\u001b[0m\u001b[0;34m\u001b[0m\u001b[0;34m\u001b[0m\u001b[0m\n\u001b[1;32m      2\u001b[0m \u001b[0;34m\u001b[0m\u001b[0m\n\u001b[0;32m----> 3\u001b[0;31m \u001b[0mprint\u001b[0m\u001b[0;34m(\u001b[0m\u001b[0mclf\u001b[0m\u001b[0;34m.\u001b[0m\u001b[0mevaluate\u001b[0m\u001b[0;34m(\u001b[0m\u001b[0mx_test_ak\u001b[0m\u001b[0;34m,\u001b[0m \u001b[0my_test_raw\u001b[0m\u001b[0;34m)\u001b[0m\u001b[0;34m)\u001b[0m\u001b[0;34m\u001b[0m\u001b[0;34m\u001b[0m\u001b[0m\n\u001b[0m",
      "\u001b[0;32m~/anaconda3/envs/py37/lib/python3.7/site-packages/autokeras/auto_model.py\u001b[0m in \u001b[0;36mevaluate\u001b[0;34m(self, x, y, batch_size, **kwargs)\u001b[0m\n\u001b[1;32m    268\u001b[0m             \u001b[0mthe\u001b[0m \u001b[0mscalar\u001b[0m \u001b[0moutputs\u001b[0m\u001b[0;34m.\u001b[0m\u001b[0;34m\u001b[0m\u001b[0;34m\u001b[0m\u001b[0m\n\u001b[1;32m    269\u001b[0m         \"\"\"\n\u001b[0;32m--> 270\u001b[0;31m         \u001b[0mpreprocess_graph\u001b[0m\u001b[0;34m,\u001b[0m \u001b[0mmodel\u001b[0m \u001b[0;34m=\u001b[0m \u001b[0mself\u001b[0m\u001b[0;34m.\u001b[0m\u001b[0mtuner\u001b[0m\u001b[0;34m.\u001b[0m\u001b[0mget_best_model\u001b[0m\u001b[0;34m(\u001b[0m\u001b[0;34m)\u001b[0m\u001b[0;34m\u001b[0m\u001b[0;34m\u001b[0m\u001b[0m\n\u001b[0m\u001b[1;32m    271\u001b[0m         data = preprocess_graph.preprocess(\n\u001b[1;32m    272\u001b[0m             self._process_xy(x, y))[0].batch(batch_size)\n",
      "\u001b[0;32m~/anaconda3/envs/py37/lib/python3.7/site-packages/autokeras/tuner.py\u001b[0m in \u001b[0;36mget_best_model\u001b[0;34m(self)\u001b[0m\n\u001b[1;32m    108\u001b[0m         \"\"\"\n\u001b[1;32m    109\u001b[0m         preprocess_graph, keras_graph = self.hyper_graph.build_graphs(\n\u001b[0;32m--> 110\u001b[0;31m             self.best_hp)\n\u001b[0m\u001b[1;32m    111\u001b[0m         \u001b[0mpreprocess_graph\u001b[0m\u001b[0;34m.\u001b[0m\u001b[0mreload\u001b[0m\u001b[0;34m(\u001b[0m\u001b[0mself\u001b[0m\u001b[0;34m.\u001b[0m\u001b[0mbest_preprocess_graph_path\u001b[0m\u001b[0;34m)\u001b[0m\u001b[0;34m\u001b[0m\u001b[0;34m\u001b[0m\u001b[0m\n\u001b[1;32m    112\u001b[0m         \u001b[0mkeras_graph\u001b[0m\u001b[0;34m.\u001b[0m\u001b[0mreload\u001b[0m\u001b[0;34m(\u001b[0m\u001b[0mself\u001b[0m\u001b[0;34m.\u001b[0m\u001b[0mbest_keras_graph_path\u001b[0m\u001b[0;34m)\u001b[0m\u001b[0;34m\u001b[0m\u001b[0;34m\u001b[0m\u001b[0m\n",
      "\u001b[0;32m~/anaconda3/envs/py37/lib/python3.7/site-packages/autokeras/hypermodel/graph.py\u001b[0m in \u001b[0;36mbuild_graphs\u001b[0;34m(self, hp)\u001b[0m\n\u001b[1;32m    433\u001b[0m \u001b[0;34m\u001b[0m\u001b[0m\n\u001b[1;32m    434\u001b[0m     \u001b[0;32mdef\u001b[0m \u001b[0mbuild_graphs\u001b[0m\u001b[0;34m(\u001b[0m\u001b[0mself\u001b[0m\u001b[0;34m,\u001b[0m \u001b[0mhp\u001b[0m\u001b[0;34m)\u001b[0m\u001b[0;34m:\u001b[0m\u001b[0;34m\u001b[0m\u001b[0;34m\u001b[0m\u001b[0m\n\u001b[0;32m--> 435\u001b[0;31m         \u001b[0mplain_graph\u001b[0m \u001b[0;34m=\u001b[0m \u001b[0mself\u001b[0m\u001b[0;34m.\u001b[0m\u001b[0mhyper_build\u001b[0m\u001b[0;34m(\u001b[0m\u001b[0mhp\u001b[0m\u001b[0;34m)\u001b[0m\u001b[0;34m\u001b[0m\u001b[0;34m\u001b[0m\u001b[0m\n\u001b[0m\u001b[1;32m    436\u001b[0m         \u001b[0mpreprocess_graph\u001b[0m \u001b[0;34m=\u001b[0m \u001b[0mplain_graph\u001b[0m\u001b[0;34m.\u001b[0m\u001b[0mbuild_preprocess_graph\u001b[0m\u001b[0;34m(\u001b[0m\u001b[0;34m)\u001b[0m\u001b[0;34m\u001b[0m\u001b[0;34m\u001b[0m\u001b[0m\n\u001b[1;32m    437\u001b[0m         \u001b[0mpreprocess_graph\u001b[0m\u001b[0;34m.\u001b[0m\u001b[0mbuild\u001b[0m\u001b[0;34m(\u001b[0m\u001b[0mhp\u001b[0m\u001b[0;34m)\u001b[0m\u001b[0;34m\u001b[0m\u001b[0;34m\u001b[0m\u001b[0m\n",
      "\u001b[0;32m~/anaconda3/envs/py37/lib/python3.7/site-packages/autokeras/hypermodel/graph.py\u001b[0m in \u001b[0;36mhyper_build\u001b[0;34m(self, hp)\u001b[0m\n\u001b[1;32m    453\u001b[0m                       for input_node in old_block.inputs]\n\u001b[1;32m    454\u001b[0m             \u001b[0;32mif\u001b[0m \u001b[0misinstance\u001b[0m\u001b[0;34m(\u001b[0m\u001b[0mold_block\u001b[0m\u001b[0;34m,\u001b[0m \u001b[0mbase\u001b[0m\u001b[0;34m.\u001b[0m\u001b[0mHyperBlock\u001b[0m\u001b[0;34m)\u001b[0m\u001b[0;34m:\u001b[0m\u001b[0;34m\u001b[0m\u001b[0;34m\u001b[0m\u001b[0m\n\u001b[0;32m--> 455\u001b[0;31m                 \u001b[0moutputs\u001b[0m \u001b[0;34m=\u001b[0m \u001b[0mold_block\u001b[0m\u001b[0;34m.\u001b[0m\u001b[0mbuild\u001b[0m\u001b[0;34m(\u001b[0m\u001b[0mhp\u001b[0m\u001b[0;34m,\u001b[0m \u001b[0minputs\u001b[0m\u001b[0;34m=\u001b[0m\u001b[0minputs\u001b[0m\u001b[0;34m)\u001b[0m\u001b[0;34m\u001b[0m\u001b[0;34m\u001b[0m\u001b[0m\n\u001b[0m\u001b[1;32m    456\u001b[0m             \u001b[0;32melse\u001b[0m\u001b[0;34m:\u001b[0m\u001b[0;34m\u001b[0m\u001b[0;34m\u001b[0m\u001b[0m\n\u001b[1;32m    457\u001b[0m                 \u001b[0moutputs\u001b[0m \u001b[0;34m=\u001b[0m \u001b[0mcopy\u001b[0m\u001b[0;34m(\u001b[0m\u001b[0mold_block\u001b[0m\u001b[0;34m)\u001b[0m\u001b[0;34m(\u001b[0m\u001b[0minputs\u001b[0m\u001b[0;34m)\u001b[0m\u001b[0;34m\u001b[0m\u001b[0;34m\u001b[0m\u001b[0m\n",
      "\u001b[0;32m~/anaconda3/envs/py37/lib/python3.7/site-packages/autokeras/hypermodel/base.py\u001b[0m in \u001b[0;36m_build_wrapper\u001b[0;34m(self, hp, *args, **kwargs)\u001b[0m\n\u001b[1;32m     62\u001b[0m             \u001b[0mhp\u001b[0m \u001b[0;34m=\u001b[0m \u001b[0mhp\u001b[0m\u001b[0;34m.\u001b[0m\u001b[0mcopy\u001b[0m\u001b[0;34m(\u001b[0m\u001b[0;34m)\u001b[0m\u001b[0;34m\u001b[0m\u001b[0;34m\u001b[0m\u001b[0m\n\u001b[1;32m     63\u001b[0m \u001b[0;34m\u001b[0m\u001b[0m\n\u001b[0;32m---> 64\u001b[0;31m         \u001b[0;32mwith\u001b[0m \u001b[0mhp\u001b[0m\u001b[0;34m.\u001b[0m\u001b[0mname_scope\u001b[0m\u001b[0;34m(\u001b[0m\u001b[0mself\u001b[0m\u001b[0;34m.\u001b[0m\u001b[0mname\u001b[0m\u001b[0;34m)\u001b[0m\u001b[0;34m:\u001b[0m\u001b[0;34m\u001b[0m\u001b[0;34m\u001b[0m\u001b[0m\n\u001b[0m\u001b[1;32m     65\u001b[0m             \u001b[0;32mreturn\u001b[0m \u001b[0mself\u001b[0m\u001b[0;34m.\u001b[0m\u001b[0m_build\u001b[0m\u001b[0;34m(\u001b[0m\u001b[0mhp\u001b[0m\u001b[0;34m,\u001b[0m \u001b[0;34m*\u001b[0m\u001b[0margs\u001b[0m\u001b[0;34m,\u001b[0m \u001b[0;34m**\u001b[0m\u001b[0mkwargs\u001b[0m\u001b[0;34m)\u001b[0m\u001b[0;34m\u001b[0m\u001b[0;34m\u001b[0m\u001b[0m\n\u001b[1;32m     66\u001b[0m \u001b[0;34m\u001b[0m\u001b[0m\n",
      "\u001b[0;31mAttributeError\u001b[0m: 'NoneType' object has no attribute 'name_scope'"
     ]
    }
   ],
   "source": [
    "# results = clf.predict(x_test_ak)\n",
    "\n",
    "print(clf.evaluate(x_test_ak, y_test_raw))"
   ]
  },
  {
   "cell_type": "code",
   "execution_count": null,
   "metadata": {},
   "outputs": [],
   "source": [
    "\n",
    "\n",
    "\n",
    "\n",
    "\n",
    "clf =  ak.StructuredDataClassifier(max_trials=10)\n",
    "clf.fit(x_train_ak, y_train_ak,validation_data=(x_val_ak, y_val_ak))\n",
    "results = clf.predict(x_test_ak)\n",
    "\n",
    "print(clf.evaluate(x_test, y_test_raw))"
   ]
  },
  {
   "cell_type": "markdown",
   "metadata": {
    "colab_type": "text",
    "id": "3aUL533oX-98"
   },
   "source": [
    "## 2.1 CNN1"
   ]
  },
  {
   "cell_type": "code",
   "execution_count": null,
   "metadata": {
    "colab": {},
    "colab_type": "code",
    "id": "MrPySIPco0xW"
   },
   "outputs": [],
   "source": [
    "def CNN_model(x_train, activ_func=\"relu\", dropout=0.20, loss=\"binary_crossentropy\", optimizer=\"adam\"):\n",
    "    model = Sequential()\n",
    "    input_shape = (x_train.shape[1],x_train.shape[2],x_train.shape[3])\n",
    "\n",
    "    model.add(Conv2D(filters=32, kernel_size=5, name='con1', activation='relu', input_shape=input_shape, kernel_regularizer=regularizers.l2(0.001)))\n",
    "    # 池化层1\n",
    "    model.add(MaxPooling2D(pool_size=4))\n",
    "    # dropout层1（减轻训练阶段过拟合）\n",
    "    model.add(Dropout(dropout))\n",
    "    # 卷积层2\n",
    "    model.add(Conv2D(filters=64, kernel_size=4, name='con2', activation='relu',kernel_regularizer=regularizers.l2(0.001)))\n",
    "    # 池化层2\n",
    "    model.add(MaxPooling2D(pool_size=4))\n",
    "    # Flatten用于将多维输入一维化，常用在从卷积层到全连接层的过渡\n",
    "    model.add(Flatten())\n",
    "    # dropout层2（减轻训练阶段过拟合）\n",
    "    model.add(Dropout(dropout))\n",
    "    # 全连接层\n",
    "    model.add(Dense(units=2, activation='sigmoid'))\n",
    "    # 设置优化器，损失函数，性能评估\n",
    "    model.compile(optimizer='adam', loss='binary_crossentropy', metrics=['binary_accuracy'])\n",
    "    plot_model(model, to_file='model/model_plot_CNN1.png', show_shapes=True, show_layer_names=True)\n",
    "    return model"
   ]
  },
  {
   "cell_type": "code",
   "execution_count": null,
   "metadata": {
    "colab": {},
    "colab_type": "code",
    "id": "OhJgCSJMov_7"
   },
   "outputs": [],
   "source": [
    "def CNN_RUN1(x_train,y_train,nb_epoch,dropout,batch_size):\n",
    "    model = CNN_model(x_train, activ_func=\"sigmoid\", dropout=dropout, loss=binary_crossentropy)\n",
    "    history = model.fit(x_train , y_train, epochs=nb_epoch, batch_size=batch_size,shuffle = True, validation_split=0.1)\n",
    "    # verbose = 0,, callbacks = [early_stopping,TQDMCallback()]\n",
    "    # history = model.fit(x_train , y_train, epochs=nb_epoch, batch_size=128,shuffle = True, validation_split=0.1,verbose=2) \n",
    "    return model, history\n",
    "    #size 16 50epoch"
   ]
  },
  {
   "cell_type": "markdown",
   "metadata": {
    "colab_type": "text",
    "id": "UZIC54CKqtzN"
   },
   "source": [
    "### 2.1.1 Evaluate CNN1 test data"
   ]
  },
  {
   "cell_type": "code",
   "execution_count": null,
   "metadata": {},
   "outputs": [],
   "source": [
    "# import pydot\n",
    "# from keras.callbacks import EarlyStopping\n",
    "# early_stopping = EarlyStopping(monitor='val_loss', patience=100)"
   ]
  },
  {
   "cell_type": "code",
   "execution_count": 11,
   "metadata": {
    "colab": {
     "base_uri": "https://localhost:8080/",
     "height": 1000
    },
    "colab_type": "code",
    "executionInfo": {
     "elapsed": 146955,
     "status": "ok",
     "timestamp": 1566325717148,
     "user": {
      "displayName": "Baron Du",
      "photoUrl": "https://lh6.googleusercontent.com/-MP248IBZk3k/AAAAAAAAAAI/AAAAAAAAJjc/n39dWK0H-HU/s64/photo.jpg",
      "userId": "11814843139925485516"
     },
     "user_tz": -60
    },
    "id": "qSUqSONrhGCh",
    "outputId": "2e6eacfe-55d2-4e85-fea8-40d92385eb83"
   },
   "outputs": [
    {
     "name": "stdout",
     "output_type": "stream",
     "text": [
      "Train on 2331 samples, validate on 259 samples\n",
      "Epoch 1/30\n",
      "2331/2331 [==============================] - 2s 962us/sample - loss: 0.7477 - binary_accuracy: 0.5199 - val_loss: 0.7412 - val_binary_accuracy: 0.3533\n",
      "Epoch 2/30\n",
      "2331/2331 [==============================] - 1s 273us/sample - loss: 0.7327 - binary_accuracy: 0.5272 - val_loss: 0.7355 - val_binary_accuracy: 0.3456\n",
      "Epoch 3/30\n",
      "2331/2331 [==============================] - 1s 275us/sample - loss: 0.7256 - binary_accuracy: 0.5234 - val_loss: 0.7234 - val_binary_accuracy: 0.5135\n",
      "Epoch 4/30\n",
      "2331/2331 [==============================] - 1s 273us/sample - loss: 0.7207 - binary_accuracy: 0.5245 - val_loss: 0.7300 - val_binary_accuracy: 0.3417\n",
      "Epoch 5/30\n",
      "2331/2331 [==============================] - 1s 274us/sample - loss: 0.7160 - binary_accuracy: 0.5236 - val_loss: 0.7180 - val_binary_accuracy: 0.4440\n",
      "Epoch 6/30\n",
      "2331/2331 [==============================] - 1s 275us/sample - loss: 0.7129 - binary_accuracy: 0.5191 - val_loss: 0.7227 - val_binary_accuracy: 0.3533\n",
      "Epoch 7/30\n",
      "2331/2331 [==============================] - 1s 275us/sample - loss: 0.7089 - binary_accuracy: 0.5313 - val_loss: 0.7280 - val_binary_accuracy: 0.3436\n",
      "Epoch 8/30\n",
      "2331/2331 [==============================] - 1s 274us/sample - loss: 0.7051 - binary_accuracy: 0.5375 - val_loss: 0.7056 - val_binary_accuracy: 0.5347\n",
      "Epoch 9/30\n",
      "2331/2331 [==============================] - 1s 272us/sample - loss: 0.7018 - binary_accuracy: 0.5435 - val_loss: 0.7247 - val_binary_accuracy: 0.3880\n",
      "Epoch 10/30\n",
      "2331/2331 [==============================] - 1s 275us/sample - loss: 0.6992 - binary_accuracy: 0.5502 - val_loss: 0.6985 - val_binary_accuracy: 0.5734\n",
      "Epoch 11/30\n",
      "2331/2331 [==============================] - 1s 275us/sample - loss: 0.6971 - binary_accuracy: 0.5489 - val_loss: 0.7333 - val_binary_accuracy: 0.3610\n",
      "Epoch 12/30\n",
      "2331/2331 [==============================] - 1s 275us/sample - loss: 0.6980 - binary_accuracy: 0.5506 - val_loss: 0.7403 - val_binary_accuracy: 0.3263\n",
      "Epoch 13/30\n",
      "2331/2331 [==============================] - 1s 276us/sample - loss: 0.6983 - binary_accuracy: 0.5388 - val_loss: 0.7213 - val_binary_accuracy: 0.4054\n",
      "Epoch 14/30\n",
      "2331/2331 [==============================] - 1s 272us/sample - loss: 0.6941 - binary_accuracy: 0.5736 - val_loss: 0.7220 - val_binary_accuracy: 0.4035\n",
      "Epoch 15/30\n",
      "2331/2331 [==============================] - 1s 272us/sample - loss: 0.6910 - binary_accuracy: 0.5641 - val_loss: 0.7015 - val_binary_accuracy: 0.5309\n",
      "Epoch 16/30\n",
      "2331/2331 [==============================] - 1s 272us/sample - loss: 0.6881 - binary_accuracy: 0.5770 - val_loss: 0.7182 - val_binary_accuracy: 0.4537\n",
      "Epoch 17/30\n",
      "2331/2331 [==============================] - 1s 274us/sample - loss: 0.6884 - binary_accuracy: 0.5721 - val_loss: 0.7342 - val_binary_accuracy: 0.3996\n",
      "Epoch 18/30\n",
      "2331/2331 [==============================] - 1s 274us/sample - loss: 0.6874 - binary_accuracy: 0.5774 - val_loss: 0.7139 - val_binary_accuracy: 0.4459\n",
      "Epoch 19/30\n",
      "2331/2331 [==============================] - 1s 277us/sample - loss: 0.6779 - binary_accuracy: 0.6053 - val_loss: 0.7159 - val_binary_accuracy: 0.4691\n",
      "Epoch 20/30\n",
      "2331/2331 [==============================] - 1s 273us/sample - loss: 0.6761 - binary_accuracy: 0.6066 - val_loss: 0.7459 - val_binary_accuracy: 0.4228\n",
      "Epoch 21/30\n",
      "2331/2331 [==============================] - 1s 276us/sample - loss: 0.6775 - binary_accuracy: 0.5965 - val_loss: 0.7052 - val_binary_accuracy: 0.4961\n",
      "Epoch 22/30\n",
      "2331/2331 [==============================] - 1s 275us/sample - loss: 0.6745 - binary_accuracy: 0.6070 - val_loss: 0.7074 - val_binary_accuracy: 0.5039\n",
      "Epoch 23/30\n",
      "2331/2331 [==============================] - 1s 277us/sample - loss: 0.6676 - binary_accuracy: 0.6165 - val_loss: 0.6942 - val_binary_accuracy: 0.5251\n",
      "Epoch 24/30\n",
      "2331/2331 [==============================] - 1s 273us/sample - loss: 0.6699 - binary_accuracy: 0.6040 - val_loss: 0.6754 - val_binary_accuracy: 0.5965\n",
      "Epoch 25/30\n",
      "2331/2331 [==============================] - 1s 276us/sample - loss: 0.6603 - binary_accuracy: 0.6285 - val_loss: 0.6730 - val_binary_accuracy: 0.6255\n",
      "Epoch 26/30\n",
      "2331/2331 [==============================] - 1s 276us/sample - loss: 0.6610 - binary_accuracy: 0.6251 - val_loss: 0.7179 - val_binary_accuracy: 0.4807\n",
      "Epoch 27/30\n",
      "2331/2331 [==============================] - 1s 277us/sample - loss: 0.6609 - binary_accuracy: 0.6240 - val_loss: 0.6948 - val_binary_accuracy: 0.5367\n",
      "Epoch 28/30\n",
      "2331/2331 [==============================] - 1s 280us/sample - loss: 0.6571 - binary_accuracy: 0.6319 - val_loss: 0.6774 - val_binary_accuracy: 0.6158\n",
      "Epoch 29/30\n",
      "2331/2331 [==============================] - 1s 275us/sample - loss: 0.6552 - binary_accuracy: 0.6326 - val_loss: 0.6967 - val_binary_accuracy: 0.5367\n",
      "Epoch 30/30\n",
      "2331/2331 [==============================] - 1s 279us/sample - loss: 0.6522 - binary_accuracy: 0.6474 - val_loss: 0.6747 - val_binary_accuracy: 0.6236\n"
     ]
    }
   ],
   "source": [
    "# cnn_model_1 ,history_1= CNN_RUN1(x_train_res, y_train_res, nb_epoch = 60, dropout = 0.3, batch_size = 16)\n",
    "cnn_model_1 ,history_1= CNN_RUN1(x_total_res_indicators5, y_total_res, nb_epoch = 30, dropout = 0.4, batch_size = 128)"
   ]
  },
  {
   "cell_type": "code",
   "execution_count": 12,
   "metadata": {
    "colab": {},
    "colab_type": "code",
    "id": "EDUk6z1Dekh-"
   },
   "outputs": [],
   "source": [
    "# model save\n",
    "# cnn_model_1.save_weights('model/cnn_model_1_a.h5', overwrite=True)\n",
    "cnn_model_1.save('model/model_cnn1_epochs30_dropout0.3_batch_size8.h5')  # creates a HDF5 file 'my_model.h5\n",
    "np.save(\"model/history_cnn1_epochs30_dropout0.3_batch_size8.npy\",history_1.history)\n",
    "# del model  # deletes the existing model\n",
    "# cnn_model_1 = load_model('model/cnn1_80.h5')"
   ]
  },
  {
   "cell_type": "code",
   "execution_count": 13,
   "metadata": {
    "colab": {
     "base_uri": "https://localhost:8080/",
     "height": 85
    },
    "colab_type": "code",
    "executionInfo": {
     "elapsed": 1408,
     "status": "ok",
     "timestamp": 1566325724047,
     "user": {
      "displayName": "Baron Du",
      "photoUrl": "https://lh6.googleusercontent.com/-MP248IBZk3k/AAAAAAAAAAI/AAAAAAAAJjc/n39dWK0H-HU/s64/photo.jpg",
      "userId": "11814843139925485516"
     },
     "user_tz": -60
    },
    "id": "0p6cCZ8Fqlfp",
    "outputId": "e78b91a0-5bc7-4471-bd2f-d196d68fbe20"
   },
   "outputs": [],
   "source": [
    "def model_preedict(model, x_test, y_test, x_test_res, y_test_res):\n",
    "    prediction = model.predict(x_test)\n",
    "    score = model.evaluate(x_test, y_test)\n",
    "    print('Test loss:', score[0])\n",
    "    print('Test accuracy:', score[1])\n",
    "\n",
    "    # resampled test data\n",
    "    prediction_res = cnn_model_1.predict(x_test_res)\n",
    "    score_res = cnn_model_1.evaluate(x_test_res, y_test_res)\n",
    "    print('Test loss:', score_res[0])\n",
    "    print('Test accuracy:', score_res[1])\n",
    "    return prediction, prediction_res"
   ]
  },
  {
   "cell_type": "code",
   "execution_count": 14,
   "metadata": {},
   "outputs": [
    {
     "name": "stdout",
     "output_type": "stream",
     "text": [
      "259/1 [==========================================================================================================================================================================================================================================================================================================================================================================================================================================================================================================================================================================================================================================================================================================================================================================================================================================================================================================================================================================================================================================================================================================================================================================================================================================================================================================================================================================================================================================================================================================================================================================================================================================================================================================================================================================================================================================================================================================================================================================================================================================================================================================================================================================================================================================================================================================================================================================================================================================================================================================================================================================================================================================================================================================================================================================================================================================================================================================================================================================================================================================================================================================================================================================================================================================================================================================================================================================================================================================================================================================================================================================================================================================================================================================================================================================================================================================================================================================================================================================================================================================================================================================================================================================================================================================================================================================================================================================================================================================================================================================================================================================================================================================================================================================================================================================================================================================================================================================================================================================================================================================================================================================================================================================================================================================================================================================================================================================================================================================================================================================================================================================================================================================================================================================================================================================================================================================================================================================================================================================================================================================================================================================================================================================================================================================================================================================================================================================================================================================================================================================================================================================================================================================================================================================================================================================================================================================================================================================================================================================================================================================================================================================================================================================================================================================================================================================================================================================================================================================================================================================================================================================================================================================================================================================================================================================================================================================================================================================================================================================================================================================================================================] - 0s 206us/sample - loss: 0.7437 - binary_accuracy: 0.4363\n",
      "Test loss: 0.7614786730769979\n",
      "Test accuracy: 0.43629342\n",
      "264/1 [================================================================================================================================================================================================================================================================================================================================================================================================================================================================================================================================================================================================================================================================================================================================================================================================================================================================================================================================================================================================================================================================================================================================================================================================================================================================================================================================================================================================================================================================================================================================================================================================================================================================================================================================================================================================================================================================================================================================================================================================================================================================================================================================================================================================================================================================================================================================================================================================================================================================================================================================================================================================================================================================================================================================================================================================================================================================================================================================================================================================================================================================================================================================================================================================================================================================================================================================================================================================================================================================================================================================================================================================================================================================================================================================================================================================================================================================================================================================================================================================================================================================================================================================================================================================================================================================================================================================================================================================================================================================================================================================================================================================================================================================================================================================================================================================================================================================================================================================================================================================================================================================================================================================================================================================================================================================================================================================================================================================================================================================================================================================================================================================================================================================================================================================================================================================================================================================================================================================================================================================================================================================================================================================================================================================================================================================================================================================================================================================================================================================================================================================================================================================================================================================================================================================================================================================================================================================================================================================================================================================================================================================================================================================================================================================================================================================================================================================================================================================================================================================================================================================================================================================================================================================================================================================================================================================================================================================================================================================================================================================================================================================================================================================================================================================================================================] - 0s 223us/sample - loss: 0.8583 - binary_accuracy: 0.4280\n",
      "Test loss: 0.7675650228153575\n",
      "Test accuracy: 0.4280303\n"
     ]
    }
   ],
   "source": [
    "# prediction_1, prediction_1_res = model_preedict(cnn_model_1, x_test, y_test, x_test_res, y_test_res)\n",
    "# prediction_1, prediction_1_res = model_preedict(cnn_model_1, x_test_close, y_test, x_test_res_close, y_test_res)\n",
    "prediction_1, prediction_1_res = model_preedict(cnn_model_1, x_test_indicators5, y_test, x_test_res_indicators5, y_test_res)"
   ]
  },
  {
   "cell_type": "code",
   "execution_count": 15,
   "metadata": {
    "colab": {
     "base_uri": "https://localhost:8080/",
     "height": 925
    },
    "colab_type": "code",
    "executionInfo": {
     "elapsed": 1847,
     "status": "ok",
     "timestamp": 1566325729434,
     "user": {
      "displayName": "Baron Du",
      "photoUrl": "https://lh6.googleusercontent.com/-MP248IBZk3k/AAAAAAAAAAI/AAAAAAAAJjc/n39dWK0H-HU/s64/photo.jpg",
      "userId": "11814843139925485516"
     },
     "user_tz": -60
    },
    "id": "hvLNZQ74nkeR",
    "outputId": "3778545c-6c47-4f24-9fbb-44d38ee1c1d5"
   },
   "outputs": [
    {
     "name": "stderr",
     "output_type": "stream",
     "text": [
      "findfont: Font family ['sans-serif'] not found. Falling back to DejaVu Sans.\n",
      "findfont: Font family ['sans-serif'] not found. Falling back to DejaVu Sans.\n"
     ]
    },
    {
     "data": {
      "image/png": "[encoded data removed]",
      "text/plain": [
       "<Figure size 900x350 with 1 Axes>"
      ]
     },
     "metadata": {},
     "output_type": "display_data"
    },
    {
     "data": {
      "text/plain": [
       "<Figure size 640x480 with 0 Axes>"
      ]
     },
     "metadata": {},
     "output_type": "display_data"
    },
    {
     "data": {
      "image/png": "[encoded data removed]",
      "text/plain": [
       "<Figure size 900x350 with 1 Axes>"
      ]
     },
     "metadata": {},
     "output_type": "display_data"
    },
    {
     "name": "stdout",
     "output_type": "stream",
     "text": [
      "Confusion matrix:\n",
      " [[69 63]\n",
      " [81 46]]\n"
     ]
    },
    {
     "data": {
      "text/plain": [
       "<Figure size 640x480 with 0 Axes>"
      ]
     },
     "metadata": {},
     "output_type": "display_data"
    },
    {
     "name": "stderr",
     "output_type": "stream",
     "text": [
      "findfont: Font family ['sans-serif'] not found. Falling back to DejaVu Sans.\n"
     ]
    },
    {
     "data": {
      "image/png": "[encoded data removed]",
      "text/plain": [
       "<Figure size 300x300 with 2 Axes>"
      ]
     },
     "metadata": {},
     "output_type": "display_data"
    },
    {
     "name": "stdout",
     "output_type": "stream",
     "text": [
      "tn, fp, fn, tp, fpr[1], tpr[1], auc, f1_score 69 63 81 46 0.4772727272727273 0.36220472440944884 0.4424659985683608 0.3898305084745763\n",
      "Confusion matrix:\n",
      " [[69 63]\n",
      " [86 46]]\n"
     ]
    },
    {
     "data": {
      "text/plain": [
       "<Figure size 640x480 with 0 Axes>"
      ]
     },
     "metadata": {},
     "output_type": "display_data"
    },
    {
     "data": {
      "image/png": "[encoded data removed]",
      "text/plain": [
       "<Figure size 300x300 with 2 Axes>"
      ]
     },
     "metadata": {},
     "output_type": "display_data"
    },
    {
     "name": "stdout",
     "output_type": "stream",
     "text": [
      "tn, fp, fn, tp, fpr[1], tpr[1], auc, f1_score 69 63 86 46 0.4772727272727273 0.3484848484848485 0.43560606060606066 0.38174273858921165\n"
     ]
    },
    {
     "data": {
      "text/plain": [
       "<Figure size 640x480 with 0 Axes>"
      ]
     },
     "metadata": {},
     "output_type": "display_data"
    }
   ],
   "source": [
    "loss_accuracy(history_1)\n",
    "show_cm_auc(prediction_1,y_test)\n",
    "show_cm_auc(prediction_1_res,y_test_res)"
   ]
  },
  {
   "cell_type": "markdown",
   "metadata": {
    "colab_type": "text",
    "id": "qJ2HT8RWpdty"
   },
   "source": [
    "## 2.2 CNN2"
   ]
  },
  {
   "cell_type": "code",
   "execution_count": null,
   "metadata": {
    "colab": {},
    "colab_type": "code",
    "id": "8eeJAzgFxNnC"
   },
   "outputs": [],
   "source": [
    "def CNN_model2(x_train, activ_func=\"relu\", dropout=0.20, loss=\"binary_crossentropy\", optimizer=\"adam\"):\n",
    "    model = Sequential()\n",
    "    input_shape = (x_train.shape[1],x_train.shape[2],x_train.shape[3])\n",
    "\n",
    "    # model.add(Conv2D(filters=32, kernel_size=(3,3), padding='same',name='con1', activation='relu', input_shape=input_shape))\n",
    "    model.add(Conv2D(filters=32, kernel_size=(3,3), name='con2', activation='relu',input_shape=input_shape))\n",
    "    model.add(MaxPooling2D(pool_size=(2,2)))\n",
    "    model.add(Dropout(dropout))\n",
    "\n",
    "    # model.add(Conv2D(filters=64, kernel_size=(3,3), padding='same',name='con3', activation='relu'))\n",
    "    model.add(Conv2D(filters=64, kernel_size=(3,3), name='con4', activation='relu'))\n",
    "    model.add(MaxPooling2D(pool_size=(2,2)))\n",
    "    model.add(Dropout(dropout))\n",
    "\n",
    "    # model.add(Conv2D(filters=128, kernel_size=(3,3), padding='same',name='con5', activation='relu'))\n",
    "    model.add(Conv2D(filters=128, kernel_size=(3,3), name='con6', activation='relu'))\n",
    "    model.add(MaxPooling2D(pool_size=(2,2)))\n",
    "    model.add(Dropout(dropout))\n",
    "\n",
    "    # Flatten用于将多维输入一维化，常用在从卷积层到全连接层的过渡\n",
    "    model.add(Flatten())\n",
    "    model.add(Dense(units=256,activation='relu'))\n",
    "    # model.add(Dense(units=256))\n",
    "    model.add(Dropout(dropout))\n",
    "\n",
    "    model.add(Dense(units=2, activation='sigmoid'))\n",
    "    # 设置优化器，损失函数，性能评估\n",
    "    model.compile(optimizer='adam', loss='binary_crossentropy', metrics=['binary_accuracy'])\n",
    "    plot_model(model, to_file='model/model_plot_CNN2.png', show_shapes=True, show_layer_names=True)\n",
    "    return model"
   ]
  },
  {
   "cell_type": "code",
   "execution_count": null,
   "metadata": {
    "colab": {},
    "colab_type": "code",
    "id": "46N-VcSS796w"
   },
   "outputs": [],
   "source": [
    "# model = CNN_model2(x_train_res, activ_func=\"sigmoid\", dropout=0.3, loss=binary_crossentropy)\n",
    "# plt.plot(plot_model(model))\n",
    "# model.summary()"
   ]
  },
  {
   "cell_type": "code",
   "execution_count": null,
   "metadata": {
    "colab": {},
    "colab_type": "code",
    "id": "CWLkmwfqxFZi"
   },
   "outputs": [],
   "source": [
    "def CNN_RUN2(x_train,y_train,nb_epoch,dropout,batch_size):\n",
    "    model = CNN_model2(x_train, activ_func=\"sigmoid\", dropout=dropout, loss = binary_crossentropy)\n",
    "    history = model.fit(x_train , y_train, epochs=nb_epoch, batch_size=batch_size, shuffle = True, validation_split=0.1,verbose = 0,callbacks = [TQDMCallback(),early_stopping])\n",
    "#     history = model.fit(x_train , y_train, epochs=nb_epoch, batch_size=batch_size, shuffle = False, validation_split=0.2)\n",
    "    return model, history"
   ]
  },
  {
   "cell_type": "markdown",
   "metadata": {
    "colab_type": "text",
    "id": "3oG68HtnkYoc"
   },
   "source": [
    "### 2.2.1 Evaluate CNN2 test data"
   ]
  },
  {
   "cell_type": "code",
   "execution_count": null,
   "metadata": {
    "colab": {
     "base_uri": "https://localhost:8080/",
     "height": 394
    },
    "colab_type": "code",
    "executionInfo": {
     "elapsed": 246,
     "status": "ok",
     "timestamp": 1566318661344,
     "user": {
      "displayName": "Baron Du",
      "photoUrl": "https://lh6.googleusercontent.com/-MP248IBZk3k/AAAAAAAAAAI/AAAAAAAAJjc/n39dWK0H-HU/s64/photo.jpg",
      "userId": "11814843139925485516"
     },
     "user_tz": -60
    },
    "id": "G20rxFTIpQHl",
    "outputId": "351ba8e3-81b0-4e6f-8b24-77639a528f55"
   },
   "outputs": [],
   "source": [
    "cnn_model_2 ,history_2= CNN_RUN2(x_train, y_train, nb_epoch = 50, dropout = 0.4, batch_size = 16)\n",
    "# cnn_model2.save_weights('model/cnn_model_1_b.h5', overwrite=True"
   ]
  },
  {
   "cell_type": "code",
   "execution_count": null,
   "metadata": {
    "colab": {
     "base_uri": "https://localhost:8080/",
     "height": 68
    },
    "colab_type": "code",
    "executionInfo": {
     "elapsed": 1947,
     "status": "ok",
     "timestamp": 1566318668092,
     "user": {
      "displayName": "Baron Du",
      "photoUrl": "https://lh6.googleusercontent.com/-MP248IBZk3k/AAAAAAAAAAI/AAAAAAAAJjc/n39dWK0H-HU/s64/photo.jpg",
      "userId": "11814843139925485516"
     },
     "user_tz": -60
    },
    "id": "eb99WRaDuOp3",
    "outputId": "cf4980e5-106a-4a60-cc28-3f987828380a"
   },
   "outputs": [],
   "source": [
    "prediction_2 = cnn_model_2.predict(x_test)\n",
    "score_2 = cnn_model_2.evaluate(x_test, y_test)\n",
    "print('Test loss:', score_2[0])\n",
    "print('Test accuracy:', score_2[1])"
   ]
  },
  {
   "cell_type": "code",
   "execution_count": null,
   "metadata": {
    "colab": {
     "base_uri": "https://localhost:8080/",
     "height": 926
    },
    "colab_type": "code",
    "executionInfo": {
     "elapsed": 2492,
     "status": "ok",
     "timestamp": 1566318672105,
     "user": {
      "displayName": "Baron Du",
      "photoUrl": "https://lh6.googleusercontent.com/-MP248IBZk3k/AAAAAAAAAAI/AAAAAAAAJjc/n39dWK0H-HU/s64/photo.jpg",
      "userId": "11814843139925485516"
     },
     "user_tz": -60
    },
    "id": "w7jSFtJ1n7w6",
    "outputId": "73018c4a-157f-46ba-a539-d7e8427b7c62"
   },
   "outputs": [],
   "source": [
    "loss_accuracy(history_2)\n",
    "# show_cm_auc(prediction_2,y_test)"
   ]
  },
  {
   "cell_type": "code",
   "execution_count": null,
   "metadata": {
    "colab": {},
    "colab_type": "code",
    "id": "PaWa8Ee_kffL"
   },
   "outputs": [],
   "source": [
    "# cnn_model.save_weights('model/cnn_model_1_a.h5', overwrite=True)\n",
    "cnn_model_2.save('model/cnn2_30.h5')  # creates a HDF5 file 'my_model.h5\n",
    "np.save(\"model/history_2_cnn2_30.npy\",history_2.history)\n",
    "# del model  # deletes the existing model\n",
    "# model = load_model('my_model.h5')"
   ]
  },
  {
   "cell_type": "markdown",
   "metadata": {
    "colab_type": "text",
    "id": "TGNfhU_mtnoe"
   },
   "source": [
    "## 2.3 Compare with random predict"
   ]
  },
  {
   "cell_type": "code",
   "execution_count": null,
   "metadata": {
    "colab": {},
    "colab_type": "code",
    "id": "sIWVcOJ3tmoT"
   },
   "outputs": [],
   "source": [
    "def compare_random(y_data):\n",
    "    data_size = y_data.shape[0]\n",
    "    random_data = np.random.randint(0,2,size=data_size)\n",
    "    print(random_data)\n",
    "    positive_count = np.sum(y_data == 1)\n",
    "    negative_count = np.sum(y_data == 0)\n",
    "    print(data_size,positive_count,negative_count)\n",
    "    predicted_positive_count = np.sum(random_data == 1)\n",
    "    predicted_negative_count = np.sum(random_data == 0)\n",
    "    print(random_data.shape[0],predicted_positive_count,predicted_negative_count)\n",
    "    true_positive_count = 0\n",
    "    false_positive_count = 0\n",
    "    false_negative_count = 0\n",
    "    true_negative_count = 0\n",
    "    for i in range(data_size):\n",
    "        if y_data[i] == 1 and random_data[i] == 1:\n",
    "            true_positive_count = true_positive_count + 1\n",
    "        elif y_data[i] == 0 and random_data[i] == 1:\n",
    "            false_positive_count = false_positive_count + 1\n",
    "        elif y_data[i] == 1 and random_data[i] == 0:\n",
    "            false_negative_count = false_negative_count + 1 \n",
    "        elif y_data[i] == 0 and random_data[i] == 0:\n",
    "            true_negative_count = true_negative_count  + 1\n",
    "    tpr = true_positive_count/positive_count\n",
    "    fpr = false_positive_count/negative_count\n",
    "    accurancy = (true_positive_count + true_negative_count)/( true_positive_count + false_positive_count + false_negative_count + true_negative_count)\n",
    "    fpr1,tpr1,threshold = roc_curve(y_data, random_data) \n",
    "    accurancy1 = auc(fpr1,tpr1)\n",
    "    plot_curve(tpr1,fpr1,0,accurancy1)\n",
    "    return true_positive_count,false_positive_count,false_negative_count,true_negative_count, accurancy,accurancy1,tpr,fpr, tpr1,fpr1"
   ]
  },
  {
   "cell_type": "code",
   "execution_count": null,
   "metadata": {
    "colab": {},
    "colab_type": "code",
    "id": "KB5LwtSvHXoo"
   },
   "outputs": [],
   "source": [
    "def plot_curve(tpr,fpr,f1,accurancy):\n",
    "    plt.figure(figsize=(5,5))\n",
    "    lw = 2\n",
    "    plt.plot(fpr, tpr, color='darkorange', lw=lw, label='ROC curve (area = %0.2f)' % accurancy) ###假正率为横坐标，真正率为纵坐标做曲线\n",
    "    # plt.plot([0, 1], [0, 1], color='navy', lw=lw, linestyle='--')\n",
    "    plt.xlim([0.0, 1.0])\n",
    "    plt.ylim([0.0, 1.0])\n",
    "    plt.ylabel('True Positive Rate')\n",
    "    plt.xlabel('False Positive Rate')\n",
    "    plt.title('Receiver operating characteristic example')\n",
    "    plt.legend(loc=\"lower right\")\n",
    "    plt.show()"
   ]
  },
  {
   "cell_type": "code",
   "execution_count": null,
   "metadata": {
    "colab": {
     "base_uri": "https://localhost:8080/",
     "height": 730
    },
    "colab_type": "code",
    "executionInfo": {
     "elapsed": 667,
     "status": "ok",
     "timestamp": 1566087940475,
     "user": {
      "displayName": "Baron Du",
      "photoUrl": "https://lh6.googleusercontent.com/-MP248IBZk3k/AAAAAAAAAAI/AAAAAAAAJjc/n39dWK0H-HU/s64/photo.jpg",
      "userId": "11814843139925485516"
     },
     "user_tz": -60
    },
    "id": "sLsjja4kt1zW",
    "outputId": "a68bf480-83c5-4b6d-f33d-695fdc5fef3b"
   },
   "outputs": [],
   "source": [
    "compare_random(y_test_raw)"
   ]
  },
  {
   "cell_type": "markdown",
   "metadata": {},
   "source": [
    "## Autokeras"
   ]
  },
  {
   "cell_type": "code",
   "execution_count": null,
   "metadata": {},
   "outputs": [],
   "source": []
  },
  {
   "cell_type": "code",
   "execution_count": null,
   "metadata": {},
   "outputs": [],
   "source": []
  }
 ],
 "metadata": {
  "accelerator": "GPU",
  "colab": {
   "collapsed_sections": [
    "tVuPFicXYJxY",
    "lZYtUlmnxQom",
    "5IT-N3D93E3T",
    "3aUL533oX-98",
    "UZIC54CKqtzN",
    "qJ2HT8RWpdty",
    "3oG68HtnkYoc",
    "TGNfhU_mtnoe"
   ],
   "machine_shape": "hm",
   "name": "5indcators.ipynb",
   "provenance": [
    {
     "file_id": "15-zmPbyGqCLvA9nLSb4y_c6SdFw_zSb1",
     "timestamp": 1567460516904
    }
   ],
   "toc_visible": true,
   "version": "0.3.2"
  },
  "kernelspec": {
   "display_name": "Python 3",
   "language": "python",
   "name": "python3"
  },
  "language_info": {
   "codemirror_mode": {
    "name": "ipython",
    "version": 3
   },
   "file_extension": ".py",
   "mimetype": "text/x-python",
   "name": "python",
   "nbconvert_exporter": "python",
   "pygments_lexer": "ipython3",
   "version": "3.6.9"
  }
 },
 "nbformat": 4,
 "nbformat_minor": 4
}
